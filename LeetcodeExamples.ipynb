{
  "nbformat": 4,
  "nbformat_minor": 0,
  "metadata": {
    "colab": {
      "provenance": [],
      "authorship_tag": "ABX9TyNVh8jvkC+fw7bBqSL/a1Va",
      "include_colab_link": true
    },
    "kernelspec": {
      "name": "python3",
      "display_name": "Python 3"
    },
    "language_info": {
      "name": "python"
    }
  },
  "cells": [
    {
      "cell_type": "markdown",
      "metadata": {
        "id": "view-in-github",
        "colab_type": "text"
      },
      "source": [
        "<a href=\"https://colab.research.google.com/github/rameshbigdata/Data_Engineering_Simplified/blob/main/LeetcodeExamples.ipynb\" target=\"_parent\"><img src=\"https://colab.research.google.com/assets/colab-badge.svg\" alt=\"Open In Colab\"/></a>"
      ]
    },
    {
      "cell_type": "code",
      "execution_count": null,
      "metadata": {
        "id": "nTmFFaL_sog3"
      },
      "outputs": [],
      "source": []
    },
    {
      "cell_type": "markdown",
      "source": [
        "**2206. Divide Array Into Equal Pairs**\n",
        "\n",
        "Description:\n",
        "You need to divide nums into n pairs such that:\n",
        "\n",
        "Each element belongs to exactly one pair.\n",
        "The elements present in a pair are equal.\n",
        "Return true if nums can be divided into n pairs, otherwise return false.\n",
        "\n",
        "\n",
        "\n",
        "Example 1:\n",
        "\n",
        "Input: nums = [3,2,3,2,2,2]\n",
        "Output: true\n",
        "Explanation:\n",
        "There are 6 elements in nums, so they should be divided into 6 / 2 = 3 pairs.\n",
        "If nums is divided into the pairs (2, 2), (3, 3), and (2, 2), it will satisfy all the conditions.\n",
        "Example 2:\n",
        "\n",
        "Input: nums = [1,2,3,4]\n",
        "Output: false\n",
        "Explanation:\n",
        "There is no way to divide nums into 4 / 2 = 2 pairs such that the pairs satisfy every condition.\n"
      ],
      "metadata": {
        "id": "2fbGRREass1c"
      }
    },
    {
      "cell_type": "code",
      "source": [
        "WITH NumberCounts AS (\n",
        "    SELECT num, COUNT(*) AS count\n",
        "    FROM numbers\n",
        "    GROUP BY num\n",
        ")\n",
        "SELECT CASE\n",
        "    WHEN SUM(count % 2) = 0 THEN 'True'\n",
        "    ELSE 'False'\n",
        "END AS can_be_divided\n",
        "FROM NumberCounts;"
      ],
      "metadata": {
        "id": "iW4SKLk93Dba"
      },
      "execution_count": null,
      "outputs": []
    },
    {
      "cell_type": "markdown",
      "source": [],
      "metadata": {
        "id": "-LyD1WSp3r8P"
      }
    }
  ]
}