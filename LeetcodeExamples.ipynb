{
  "nbformat": 4,
  "nbformat_minor": 0,
  "metadata": {
    "colab": {
      "provenance": [],
      "authorship_tag": "ABX9TyP6vY8yDHQrklpezcuABIsv",
      "include_colab_link": true
    },
    "kernelspec": {
      "name": "python3",
      "display_name": "Python 3"
    },
    "language_info": {
      "name": "python"
    }
  },
  "cells": [
    {
      "cell_type": "markdown",
      "metadata": {
        "id": "view-in-github",
        "colab_type": "text"
      },
      "source": [
        "<a href=\"https://colab.research.google.com/github/rameshbigdata/Data_Engineering_Simplified/blob/main/LeetcodeExamples.ipynb\" target=\"_parent\"><img src=\"https://colab.research.google.com/assets/colab-badge.svg\" alt=\"Open In Colab\"/></a>"
      ]
    },
    {
      "cell_type": "code",
      "execution_count": null,
      "metadata": {
        "id": "nTmFFaL_sog3"
      },
      "outputs": [],
      "source": []
    },
    {
      "cell_type": "markdown",
      "source": [
        "**2206. Divide Array Into Equal Pairs**\n",
        "\n",
        "Description:\n",
        "You need to divide nums into n pairs such that:\n",
        "\n",
        "Each element belongs to exactly one pair.\n",
        "The elements present in a pair are equal.\n",
        "Return true if nums can be divided into n pairs, otherwise return false.\n",
        "\n",
        "\n",
        "\n",
        "Example 1:\n",
        "\n",
        "Input: nums = [3,2,3,2,2,2]\n",
        "Output: true\n",
        "Explanation:\n",
        "There are 6 elements in nums, so they should be divided into 6 / 2 = 3 pairs.\n",
        "If nums is divided into the pairs (2, 2), (3, 3), and (2, 2), it will satisfy all the conditions.\n",
        "Example 2:\n",
        "\n",
        "Input: nums = [1,2,3,4]\n",
        "Output: false\n",
        "Explanation:\n",
        "There is no way to divide nums into 4 / 2 = 2 pairs such that the pairs satisfy every condition.\n"
      ],
      "metadata": {
        "id": "2fbGRREass1c"
      }
    },
    {
      "cell_type": "code",
      "source": [
        "WITH NumberCounts AS (\n",
        "    SELECT num, COUNT(*) AS count\n",
        "    FROM numbers\n",
        "    GROUP BY num\n",
        ")\n",
        "SELECT CASE\n",
        "    WHEN SUM(count % 2) = 0 THEN 'True'\n",
        "    ELSE 'False'\n",
        "END AS can_be_divided\n",
        "FROM NumberCounts;"
      ],
      "metadata": {
        "id": "iW4SKLk93Dba"
      },
      "execution_count": null,
      "outputs": []
    },
    {
      "cell_type": "markdown",
      "source": [
        "**175. Combine Two Tables**\n",
        "\n",
        "Description:\n",
        "Table: Person\n",
        "\n",
        "+-------------+---------+\n",
        "| Column Name | Type    |\n",
        "+-------------+---------+\n",
        "| personId    | int     |\n",
        "| lastName    | varchar |\n",
        "| firstName   | varchar |\n",
        "+-------------+---------+\n",
        "personId is the primary key (column with unique values) for this table.\n",
        "This table contains information about the ID of some persons and their first and last names.\n",
        "\n",
        "\n",
        "Table: Address\n",
        "\n",
        "+-------------+---------+\n",
        "| Column Name | Type    |\n",
        "+-------------+---------+\n",
        "| addressId   | int     |\n",
        "| personId    | int     |\n",
        "| city        | varchar |\n",
        "| state       | varchar |\n",
        "+-------------+---------+\n",
        "addressId is the primary key (column with unique values) for this table.\n",
        "Each row of this table contains information about the city and state of one person with ID = PersonId.\n",
        "\n",
        "\n",
        "Write a solution to report the first name, last name, city, and state of each person in the Person table. If the address of a personId is not present in the Address table, report null instead.\n",
        "\n",
        "Return the result table in any order.\n",
        "\n",
        "The result format is in the following example.\n",
        "\n",
        "\n",
        "\n",
        "Example 1:\n",
        "\n",
        "Input:\n",
        "Person table:\n",
        "+----------+----------+-----------+\n",
        "| personId | lastName | firstName |\n",
        "+----------+----------+-----------+\n",
        "| 1        | Wang     | Allen     |\n",
        "| 2        | Alice    | Bob       |\n",
        "+----------+----------+-----------+\n",
        "Address table:\n",
        "+-----------+----------+---------------+------------+\n",
        "| addressId | personId | city          | state      |\n",
        "+-----------+----------+---------------+------------+\n",
        "| 1         | 2        | New York City | New York   |\n",
        "| 2         | 3        | Leetcode      | California |\n",
        "+-----------+----------+---------------+------------+\n",
        "Output:\n",
        "+-----------+----------+---------------+----------+\n",
        "| firstName | lastName | city          | state    |\n",
        "+-----------+----------+---------------+----------+\n",
        "| Allen     | Wang     | Null          | Null     |\n",
        "| Bob       | Alice    | New York City | New York |\n",
        "+-----------+----------+---------------+----------+\n",
        "Explanation:\n",
        "There is no address in the address table for the personId = 1 so we return null in their city and state.\n",
        "addressId = 1 contains information about the address of personId = 2."
      ],
      "metadata": {
        "id": "-LyD1WSp3r8P"
      }
    },
    {
      "cell_type": "code",
      "source": [
        "SELECT firstName, lastName, city, state\n",
        "FROM\n",
        "    Person\n",
        "    LEFT JOIN Address on Person.personId=Address.personId;"
      ],
      "metadata": {
        "id": "ecV8weyT5nGs"
      },
      "execution_count": null,
      "outputs": []
    },
    {
      "cell_type": "markdown",
      "source": [
        "181. Employees Earning More Than Their Managers\n",
        "Description:\n",
        "Table: Employee\n",
        "\n",
        "+-------------+---------+\n",
        "| Column Name | Type    |\n",
        "+-------------+---------+\n",
        "| id          | int     |\n",
        "| name        | varchar |\n",
        "| salary      | int     |\n",
        "| managerId   | int     |\n",
        "+-------------+---------+\n",
        "id is the primary key (column with unique values) for this table.\n",
        "Each row of this table indicates the ID of an employee, their name, salary, and the ID of their manager.\n",
        "\n",
        "\n",
        "Write a solution to find the employees who earn more than their managers.\n",
        "\n",
        "Return the result table in any order.\n",
        "\n",
        "The result format is in the following example.\n",
        "\n",
        "\n",
        "\n",
        "Example 1:\n",
        "\n",
        "Input:\n",
        "Employee table:\n",
        "+----+-------+--------+-----------+\n",
        "| id | name  | salary | managerId |\n",
        "+----+-------+--------+-----------+\n",
        "| 1  | Joe   | 70000  | 3         |\n",
        "| 2  | Henry | 80000  | 4         |\n",
        "| 3  | Sam   | 60000  | Null      |\n",
        "| 4  | Max   | 90000  | Null      |\n",
        "+----+-------+--------+-----------+\n",
        "Output:\n",
        "+----------+\n",
        "| Employee |\n",
        "+----------+\n",
        "| Joe      |\n",
        "+----------+\n",
        "Explanation: Joe is the only employee who earns more than his manager.\n",
        "\n",
        "\n"
      ],
      "metadata": {
        "id": "j0MPdw2g5zBh"
      }
    },
    {
      "cell_type": "code",
      "source": [
        "SELECT e1.Name FROM Employee e1\n",
        "JOIN Employee e2 ON e1.ManagerId = e2.Id\n",
        "WHERE e1.Salary > e2.Salary;\n",
        "\n",
        "--\n",
        "\n",
        "SELECT e1.Name FROM Employee e1, Employee e2\n",
        "WHERE e1.ManagerId = e2.Id AND e1.Salary > e2.Salary;\n",
        "\n",
        "--\n",
        "\n",
        "SELECT Name AS Employee\n",
        "FROM Employee AS Curr\n",
        "WHERE\n",
        "    Salary > (\n",
        "        SELECT Salary\n",
        "        FROM Employee\n",
        "        WHERE Id = Curr.ManagerId\n",
        "    );"
      ],
      "metadata": {
        "id": "Ah9RGxEt6tCq"
      },
      "execution_count": null,
      "outputs": []
    },
    {
      "cell_type": "markdown",
      "source": [
        "182. Duplicate Emails\n",
        "Write a SQL query to find all duplicate emails in a table named Person.\n",
        "\n",
        "+----+---------+\n",
        "| Id | Email   |\n",
        "+----+---------+\n",
        "| 1  | a@b.com |\n",
        "| 2  | c@d.com |\n",
        "| 3  | a@b.com |\n",
        "+----+---------+\n",
        "For example, your query should return the following for the above table:\n",
        "\n",
        "+---------+\n",
        "| Email   |\n",
        "+---------+\n",
        "| a@b.com |\n",
        "+---------+"
      ],
      "metadata": {
        "id": "OhFWS9-A65GV"
      }
    },
    {
      "cell_type": "code",
      "source": [
        "SELECT Email FROM Person GROUP BY Email\n",
        "HAVING COUNT(*) > 1;\n",
        "\n",
        "--\n",
        "\n",
        "SELECT DISTINCT p1.Email FROM Person p1\n",
        "JOIN Person p2 ON p1.Email = p2.Email\n",
        "WHERE p1.Id <> p2.Id;"
      ],
      "metadata": {
        "id": "WLh3P8CP8JiH"
      },
      "execution_count": null,
      "outputs": []
    },
    {
      "cell_type": "code",
      "source": [
        "183. Customers Who Never Order\n",
        "Suppose that a website contains two tables, the Customers table and the Orders table. Write a SQL query to find all customers who never order anything.\n",
        "\n",
        "Table: Customers.\n",
        "\n",
        "+----+-------+\n",
        "| Id | Name  |\n",
        "+----+-------+\n",
        "| 1  | Joe   |\n",
        "| 2  | Henry |\n",
        "| 3  | Sam   |\n",
        "| 4  | Max   |\n",
        "+----+-------+\n",
        "Table: Orders.\n",
        "\n",
        "+----+------------+\n",
        "| Id | CustomerId |\n",
        "+----+------------+\n",
        "| 1  | 3          |\n",
        "| 2  | 1          |\n",
        "+----+------------+\n",
        "Using the above tables as example, return the following:\n",
        "\n",
        "+-----------+\n",
        "| Customers |\n",
        "+-----------+\n",
        "| Henry     |\n",
        "| Max       |\n",
        "+-----------+"
      ],
      "metadata": {
        "id": "GY1-CLI58OmG"
      },
      "execution_count": null,
      "outputs": []
    },
    {
      "cell_type": "code",
      "source": [
        "SELECT name AS Customers\n",
        "FROM Customers\n",
        "WHERE\n",
        "    id NOT IN (\n",
        "        SELECT customerId\n",
        "        FROM Orders\n",
        "    );\n",
        "Solution -2 :\n",
        "select name from Customers left join Orders on id=customerId where customerId is null;"
      ],
      "metadata": {
        "id": "L1F7KxBu8cwD"
      },
      "execution_count": null,
      "outputs": []
    },
    {
      "cell_type": "code",
      "source": [
        "196. Delete Duplicate Emails\n",
        "Description\n",
        "Table: Person\n",
        "\n",
        "+-------------+---------+\n",
        "| Column Name | Type    |\n",
        "+-------------+---------+\n",
        "| id          | int     |\n",
        "| email       | varchar |\n",
        "+-------------+---------+\n",
        "id is the primary key (column with unique values) for this table.\n",
        "Each row of this table contains an email. The emails will not contain uppercase letters.\n",
        "\n",
        "\n",
        "Write a solution to delete all duplicate emails, keeping only one unique email with the smallest id.\n",
        "\n",
        "For  SQL users, please note that you are supposed to write a DELETE statement and not a SELECT one.\n",
        "\n",
        "For Pandas users, please note that you are supposed to modify Person in place.\n",
        "\n",
        "After running your script, the answer shown is the Person table. The driver will first compile and run your piece of code and then show the Person table. The final order of the Person table does not matter.\n",
        "\n",
        "The result format is in the following example.\n",
        "\n",
        "\n",
        "\n",
        "Example 1:\n",
        "\n",
        "Input:\n",
        "Person table:\n",
        "+----+------------------+\n",
        "| id | email            |\n",
        "+----+------------------+\n",
        "| 1  | john@example.com |\n",
        "| 2  | bob@example.com  |\n",
        "| 3  | john@example.com |\n",
        "+----+------------------+\n",
        "Output:\n",
        "+----+------------------+\n",
        "| id | email            |\n",
        "+----+------------------+\n",
        "| 1  | john@example.com |\n",
        "| 2  | bob@example.com  |\n",
        "+----+------------------+\n",
        "Explanation: john@example.com is repeated two times. We keep the row with the smallest Id = 1"
      ],
      "metadata": {
        "id": "aqzTUxy7GdNG"
      },
      "execution_count": null,
      "outputs": []
    },
    {
      "cell_type": "code",
      "source": [
        "DELETE FROM Person\n",
        "WHERE Id NOT IN (\n",
        "    SELECT Id\n",
        "    FROM (SELECT MIN(Id) Id FROM Person GROUP BY Email) p\n",
        "    );\n",
        "\n",
        "--\n",
        "\n",
        "DELETE p1.*\n",
        "FROM\n",
        "    Person p1,\n",
        "    Person p2\n",
        "WHERE\n",
        "    p1.Email = p2.Email AND p1.Id > p2.Id"
      ],
      "metadata": {
        "id": "hJMZklgdGd3o"
      },
      "execution_count": null,
      "outputs": []
    },
    {
      "cell_type": "code",
      "source": [
        "197. Rising Temperature\n",
        "Description\n",
        "Table: Weather\n",
        "\n",
        "+---------------+---------+\n",
        "| Column Name   | Type    |\n",
        "+---------------+---------+\n",
        "| id            | int     |\n",
        "| recordDate    | date    |\n",
        "| temperature   | int     |\n",
        "+---------------+---------+\n",
        "id is the column with unique values for this table.\n",
        "This table contains information about the temperature on a certain day.\n",
        "\n",
        "\n",
        "Write a solution to find all dates' Id with higher temperatures compared to its previous dates (yesterday).\n",
        "\n",
        "Return the result table in any order.\n",
        "\n",
        "The result format is in the following example.\n",
        "\n",
        "\n",
        "\n",
        "Example 1:\n",
        "\n",
        "Input:\n",
        "Weather table:\n",
        "+----+------------+-------------+\n",
        "| id | recordDate | temperature |\n",
        "+----+------------+-------------+\n",
        "| 1  | 2015-01-01 | 10          |\n",
        "| 2  | 2015-01-02 | 25          |\n",
        "| 3  | 2015-01-03 | 20          |\n",
        "| 4  | 2015-01-04 | 30          |\n",
        "+----+------------+-------------+\n",
        "Output:\n",
        "+----+\n",
        "| id |\n",
        "+----+\n",
        "| 2  |\n",
        "| 4  |\n",
        "+----+\n",
        "Explanation:\n",
        "In 2015-01-02, the temperature was higher than the previous day (10 -> 25).\n",
        "In 2015-01-04, the temperature was higher than the previous day (20 -> 30)."
      ],
      "metadata": {
        "id": "hEH5h6JQHcdN"
      },
      "execution_count": null,
      "outputs": []
    },
    {
      "cell_type": "code",
      "source": [
        "SELECT w1.id\n",
        "FROM\n",
        "    Weather AS w1\n",
        "    JOIN Weather AS w2\n",
        "        ON SUBDATE(w1.recordDate, 1) = w2.recordDate AND w1.temperature > w2.temperature;"
      ],
      "metadata": {
        "id": "x2_IAXToHiaK"
      },
      "execution_count": null,
      "outputs": []
    },
    {
      "cell_type": "code",
      "source": [
        "# Write your MySQL query statement below\n",
        "SELECT player_id, MIN(event_date) AS first_login\n",
        "FROM Activity\n",
        "GROUP BY 1;"
      ],
      "metadata": {
        "id": "41orzACWHjTg"
      },
      "execution_count": null,
      "outputs": []
    },
    {
      "cell_type": "code",
      "source": [
        "SELECT\n",
        "    player_id,\n",
        "    device_id\n",
        "FROM Activity\n",
        "WHERE\n",
        "    (player_id, event_date) IN (\n",
        "        SELECT\n",
        "            player_id,\n",
        "            MIN(event_date) AS event_date\n",
        "        FROM Activity\n",
        "        GROUP BY 1\n",
        "    );"
      ],
      "metadata": {
        "id": "G4xYGL6KIVzU"
      },
      "execution_count": null,
      "outputs": []
    },
    {
      "cell_type": "code",
      "source": [
        "# Write your MySQL query statement below\n",
        "select e.name, b.bonus\n",
        "from Employee e\n",
        "left join Bonus b\n",
        "on e.empId = b.empId\n",
        "where ifnull(b.bonus,0) < 1000"
      ],
      "metadata": {
        "id": "yGAmbDewXx7d"
      },
      "execution_count": null,
      "outputs": []
    },
    {
      "cell_type": "code",
      "source": [
        "# Write your MySQL query statement below\n",
        "SELECT name\n",
        "FROM Customer\n",
        "WHERE IFNULL(referee_id, 0) != 2;"
      ],
      "metadata": {
        "id": "rlTwv2BjYusH"
      },
      "execution_count": null,
      "outputs": []
    },
    {
      "cell_type": "code",
      "source": [
        "# Write your MySQL query statement below\n",
        "SELECT customer_number\n",
        "FROM Orders\n",
        "GROUP BY 1\n",
        "ORDER BY COUNT(1) DESC\n",
        "LIMIT 1;"
      ],
      "metadata": {
        "id": "K1JloitVaEqY"
      },
      "execution_count": null,
      "outputs": []
    },
    {
      "cell_type": "code",
      "source": [
        "# Write your MySQL query statement below\n",
        "select\n",
        "name ,population , area\n",
        "from World\n",
        "where (population > 25000000 or area > 3000000);"
      ],
      "metadata": {
        "id": "05qtBlQyaFPm"
      },
      "execution_count": null,
      "outputs": []
    },
    {
      "cell_type": "code",
      "source": [
        "# Write your MySQL query statement below\n",
        "select class from Courses\n",
        "group by class\n",
        "having count(student)>=5;"
      ],
      "metadata": {
        "id": "P8jihPzYasxJ"
      },
      "execution_count": null,
      "outputs": []
    },
    {
      "cell_type": "code",
      "source": [
        "# Write your MySQL query statement below\n",
        "SELECT\n",
        "    ROUND(\n",
        "        IFNULL(\n",
        "            (\n",
        "                SELECT COUNT(DISTINCT requester_id, accepter_id)\n",
        "                FROM RequestAccepted\n",
        "            ) / (SELECT COUNT(DISTINCT sender_id, send_to_id) FROM FriendRequest),\n",
        "            0\n",
        "        ),\n",
        "        2\n",
        "    ) AS accept_rate;"
      ],
      "metadata": {
        "id": "ol-vk3Cfb_s9"
      },
      "execution_count": null,
      "outputs": []
    },
    {
      "cell_type": "code",
      "source": [
        "# Write your MySQL query statement below\n",
        "WITH\n",
        "    T AS (\n",
        "        SELECT\n",
        "            *,\n",
        "            SUM(free = 1) OVER (\n",
        "                ORDER BY seat_id\n",
        "                ROWS BETWEEN 1 PRECEDING AND 1 FOLLOWING\n",
        "            ) AS cnt\n",
        "        FROM Cinema\n",
        "    )\n",
        "SELECT seat_id\n",
        "FROM T\n",
        "WHERE free = 1 AND cnt > 1\n",
        "ORDER BY 1;\n",
        "\n",
        "select distinct seat_id from (select *,lag(free) over(order by seat_id) as prev_free,lead(free) over(order by seat_id) as next_free from cinema )\n",
        "a where (free=1 and prev_free=1) or (next_free=1 and free=1);\n",
        "\n",
        "\n",
        "select distinct c1.seat_id\n",
        "from cinema c1 inner join cinema c2 on c1.seat_id=c2.seat_id+1\n",
        "where c1.free=1 and c2.free=1;"
      ],
      "metadata": {
        "id": "W-uKQSQhcEfn"
      },
      "execution_count": null,
      "outputs": []
    },
    {
      "cell_type": "code",
      "source": [
        "# Write your MySQL query statement below\n",
        "SELECT s.name\n",
        "FROM\n",
        "    SalesPerson AS s\n",
        "    LEFT JOIN Orders USING (sales_id)\n",
        "    LEFT JOIN Company AS c USING (com_id)\n",
        "GROUP BY sales_id\n",
        "HAVING IFNULL(SUM(c.name = 'RED'), 0) = 0;"
      ],
      "metadata": {
        "id": "DcvIgdbKGXXL"
      },
      "execution_count": null,
      "outputs": []
    },
    {
      "cell_type": "code",
      "source": [
        "# Write your MySQL query statement below\n",
        "SELECT\n",
        "    *,\n",
        "    IF(x + y > z AND x + z > y AND y + z > x, 'Yes', 'No') AS triangle\n",
        "FROM Triangle;"
      ],
      "metadata": {
        "id": "lpt2O12SOGiw"
      },
      "execution_count": null,
      "outputs": []
    },
    {
      "cell_type": "code",
      "source": [
        "# Write your MySQL query statement below\n",
        "SELECT MIN(p2.x - p1.x) AS shortest\n",
        "FROM\n",
        "    Point AS p1\n",
        "    JOIN Point AS p2 ON p1.x < p2.x;"
      ],
      "metadata": {
        "id": "ppBsFGf2O74g"
      },
      "execution_count": null,
      "outputs": []
    },
    {
      "cell_type": "code",
      "source": [
        "# Write your MySQL query statement below\n",
        "SELECT MAX(num) AS num\n",
        "FROM\n",
        "    (\n",
        "        SELECT num\n",
        "        FROM MyNumbers\n",
        "        GROUP BY 1\n",
        "        HAVING COUNT(1) = 1\n",
        "    ) AS t;"
      ],
      "metadata": {
        "id": "WdjE-zXNQHSH"
      },
      "execution_count": null,
      "outputs": []
    },
    {
      "cell_type": "code",
      "source": [
        "# Write your MySQL query statement below\n",
        "SELECT *\n",
        "FROM Cinema\n",
        "WHERE description != 'boring' AND id & 1 = 1\n",
        "ORDER BY 4 DESC;"
      ],
      "metadata": {
        "id": "EInISzSvRcid"
      },
      "execution_count": null,
      "outputs": []
    },
    {
      "cell_type": "code",
      "source": [
        "# Write your MySQL query statement below\n",
        "UPDATE Salary\n",
        "SET sex = IF(sex = 'f', 'm', 'f');"
      ],
      "metadata": {
        "id": "ehktdbv3RdD0"
      },
      "execution_count": null,
      "outputs": []
    },
    {
      "cell_type": "code",
      "source": [
        "# Write your MySQL query statement below\n",
        "SELECT actor_id, director_id\n",
        "FROM ActorDirector\n",
        "GROUP BY 1, 2\n",
        "HAVING COUNT(1) >= 3;"
      ],
      "metadata": {
        "id": "KfgUO7huSZK9"
      },
      "execution_count": null,
      "outputs": []
    },
    {
      "cell_type": "code",
      "source": [
        "# Write your MySQL query statement below\n",
        "SELECT product_name, year, price\n",
        "FROM\n",
        "    Sales\n",
        "    JOIN Product USING (product_id);"
      ],
      "metadata": {
        "id": "7dI8p6ekTRjP"
      },
      "execution_count": null,
      "outputs": []
    },
    {
      "cell_type": "code",
      "source": [
        "# Write your MySQL query statement below\n",
        "SELECT product_id, SUM(quantity) AS total_quantity\n",
        "FROM Sales\n",
        "GROUP BY 1;"
      ],
      "metadata": {
        "id": "j2-kmmRDTdcN"
      },
      "execution_count": null,
      "outputs": []
    },
    {
      "cell_type": "code",
      "source": [
        "# Write your MySQL query statement\n",
        "SELECT project_id, ROUND(AVG(experience_years), 2) AS average_years\n",
        "FROM\n",
        "    Project\n",
        "    JOIN Employee USING (employee_id)\n",
        "GROUP BY 1;"
      ],
      "metadata": {
        "id": "qP6avcbmTd-Q"
      },
      "execution_count": null,
      "outputs": []
    },
    {
      "cell_type": "code",
      "source": [
        "# Write your MySQL query statement below\n",
        "\n",
        "select project_id\n",
        "from Project\n",
        "group by project_id\n",
        "having count(distinct employee_id) = (\n",
        "    select max(count_employee_id) from (\n",
        "        select project_id, count(employee_id) as count_employee_id\n",
        "        from Project\n",
        "        group by project_id\n",
        "    ) as max_employee\n",
        ");\n",
        "\n",
        "\n",
        "-- same as above, but separated into 2 parts\n",
        "WITH max_employee AS (\n",
        "    SELECT project_id, COUNT(employee_id) AS count_employee_id\n",
        "    FROM Project\n",
        "    GROUP BY project_id\n",
        ")\n",
        "\n",
        "SELECT project_id\n",
        "FROM Project\n",
        "GROUP BY project_id\n",
        "HAVING COUNT(DISTINCT employee_id) = (\n",
        "    SELECT MAX(count_employee_id)\n",
        "    FROM max_employee\n",
        ");\n",
        "\n",
        "--\n",
        "\n",
        "SELECT project_id\n",
        "FROM Project\n",
        "GROUP BY 1\n",
        "HAVING\n",
        "    COUNT(1) >= ALL (\n",
        "        SELECT COUNT(1)\n",
        "        FROM Project\n",
        "        GROUP BY project_id\n",
        "    );"
      ],
      "metadata": {
        "id": "YEDgogqnU_Gd"
      },
      "execution_count": null,
      "outputs": []
    },
    {
      "cell_type": "code",
      "source": [
        "# Write your MySQL query statement below\n",
        "SELECT seller_id\n",
        "FROM Sales\n",
        "GROUP BY seller_id\n",
        "HAVING\n",
        "    SUM(price) >= ALL (\n",
        "        SELECT SUM(price)\n",
        "        FROM Sales\n",
        "        GROUP BY seller_id\n",
        "    );"
      ],
      "metadata": {
        "id": "3wzNRmJOVAAi"
      },
      "execution_count": null,
      "outputs": []
    },
    {
      "cell_type": "code",
      "source": [
        "# Write your MySQL query statement below\n",
        "SELECT buyer_id\n",
        "FROM\n",
        "    Sales\n",
        "    JOIN Product USING (product_id)\n",
        "GROUP BY 1\n",
        "HAVING SUM(product_name = 'S8') > 0 AND SUM(product_name = 'iPhone') = 0;"
      ],
      "metadata": {
        "id": "jC27sWbBWwIX"
      },
      "execution_count": null,
      "outputs": []
    },
    {
      "cell_type": "code",
      "source": [
        "# Write your MySQL query statement below\n",
        "\n",
        "select Product.product_id, product_name\n",
        "from Product left join Sales\n",
        "on Product.product_id = Sales.product_id\n",
        "group by product_id\n",
        "having min(sale_date) >= '2019-01-01' and max(sale_date) <= '2019-03-31';\n",
        "\n",
        "--\n",
        "\n",
        "(\n",
        "    SELECT DISTINCT s.product_id, p.product_name\n",
        "    FROM Sales s LEFT JOIN Product p ON\n",
        "        s.product_id = p.product_id\n",
        "    WHERE s.sale_date >= '2019-01-01' AND\n",
        "          s.sale_date <= '2019-03-31'\n",
        ")\n",
        "EXCEPT -- MINUS if Oracle\n",
        "(\n",
        "    SELECT DISTINCT s.product_id, p.product_name\n",
        "    FROM Sales s LEFT JOIN Product p ON\n",
        "        s.product_id = p.product_id\n",
        "    WHERE s.sale_date < '2019-01-01' OR\n",
        "          s.sale_date > '2019-03-31'\n",
        ")\n",
        "\n",
        "--\n",
        "\n",
        "SELECT product_id, product_name\n",
        "FROM\n",
        "    Sales\n",
        "    JOIN Product USING (product_id)\n",
        "GROUP BY 1\n",
        "HAVING COUNT(1) = SUM(sale_date BETWEEN '2019-01-01' AND '2019-03-31');"
      ],
      "metadata": {
        "id": "bFunLyUrXP7A"
      },
      "execution_count": null,
      "outputs": []
    },
    {
      "cell_type": "code",
      "source": [
        "# Write your MySQL query statement below\n",
        "SELECT extra AS report_reason, COUNT(DISTINCT post_id) AS report_count\n",
        "FROM Actions\n",
        "WHERE action_date = '2019-07-04' AND action = 'report'\n",
        "GROUP BY 1;"
      ],
      "metadata": {
        "id": "KiMi5C9GXQ23"
      },
      "execution_count": null,
      "outputs": []
    },
    {
      "cell_type": "code",
      "source": [
        "# Write your MySQL query statement below\n",
        "SELECT activity_date AS day, COUNT(DISTINCT user_id) AS active_users\n",
        "FROM Activity\n",
        "WHERE activity_date <= '2019-07-27' AND DATEDIFF('2019-07-27', activity_date) < 30\n",
        "GROUP BY 1;"
      ],
      "metadata": {
        "id": "j5LPOgnyNfOc"
      },
      "execution_count": null,
      "outputs": []
    },
    {
      "cell_type": "code",
      "source": [
        "# Write your MySQL query statement below\n",
        "WITH\n",
        "    T AS (\n",
        "        SELECT\n",
        "            COUNT(DISTINCT session_id) AS sessions\n",
        "        FROM Activity\n",
        "        WHERE activity_date <= '2019-07-27' AND DATEDIFF('2019-07-27', activity_date) < 30\n",
        "        GROUP BY user_id\n",
        "    )\n",
        "SELECT IFNULL(ROUND(AVG(sessions), 2), 0) AS average_sessions_per_user\n",
        "FROM T;"
      ],
      "metadata": {
        "id": "uW7F10bKO_k7"
      },
      "execution_count": null,
      "outputs": []
    },
    {
      "cell_type": "code",
      "source": [
        "# Write your MySQL query statement below\n",
        "SELECT DISTINCT author_id AS id\n",
        "FROM Views\n",
        "WHERE author_id = viewer_id\n",
        "ORDER BY 1;"
      ],
      "metadata": {
        "id": "rWo08di_KOBb"
      },
      "execution_count": null,
      "outputs": []
    },
    {
      "cell_type": "code",
      "source": [
        "# Write your MySQL query statement below\n",
        "SELECT\n",
        "    ROUND(SUM(order_date = customer_pref_delivery_date) / COUNT(1) * 100, 2) AS immediate_percentage\n",
        "FROM Delivery;"
      ],
      "metadata": {
        "id": "7qcI2DPfLLwu"
      },
      "execution_count": null,
      "outputs": []
    },
    {
      "cell_type": "code",
      "source": [
        "# Write your MySQL query statement below\n",
        "SELECT\n",
        "    id,\n",
        "    SUM(\n",
        "        CASE month\n",
        "            WHEN 'Jan' THEN revenue\n",
        "        END\n",
        "    ) AS Jan_Revenue,\n",
        "    SUM(\n",
        "        CASE month\n",
        "            WHEN 'Feb' THEN revenue\n",
        "        END\n",
        "    ) AS Feb_Revenue,\n",
        "    SUM(\n",
        "        CASE month\n",
        "            WHEN 'Mar' THEN revenue\n",
        "        END\n",
        "    ) AS Mar_Revenue,\n",
        "    SUM(\n",
        "        CASE month\n",
        "            WHEN 'Apr' THEN revenue\n",
        "        END\n",
        "    ) AS Apr_Revenue,\n",
        "    SUM(\n",
        "        CASE month\n",
        "            WHEN 'May' THEN revenue\n",
        "        END\n",
        "    ) AS May_Revenue,\n",
        "    SUM(\n",
        "        CASE month\n",
        "            WHEN 'Jun' THEN revenue\n",
        "        END\n",
        "    ) AS Jun_Revenue,\n",
        "    SUM(\n",
        "        CASE month\n",
        "            WHEN 'Jul' THEN revenue\n",
        "        END\n",
        "    ) AS Jul_Revenue,\n",
        "    SUM(\n",
        "        CASE month\n",
        "            WHEN 'Aug' THEN revenue\n",
        "        END\n",
        "    ) AS Aug_Revenue,\n",
        "    SUM(\n",
        "        CASE month\n",
        "            WHEN 'Sep' THEN revenue\n",
        "        END\n",
        "    ) AS Sep_Revenue,\n",
        "    SUM(\n",
        "        CASE month\n",
        "            WHEN 'Oct' THEN revenue\n",
        "        END\n",
        "    ) AS Oct_Revenue,\n",
        "    SUM(\n",
        "        CASE month\n",
        "            WHEN 'Nov' THEN revenue\n",
        "        END\n",
        "    ) AS Nov_Revenue,\n",
        "    SUM(\n",
        "        CASE month\n",
        "            WHEN 'Dec' THEN revenue\n",
        "        END\n",
        "    ) AS Dec_Revenue\n",
        "FROM Department\n",
        "GROUP BY 1;"
      ],
      "metadata": {
        "id": "WHe9tlfDLxJ3"
      },
      "execution_count": null,
      "outputs": []
    },
    {
      "cell_type": "code",
      "source": [
        "# Write your MySQL query statement below\n",
        "SELECT\n",
        "    query_name,\n",
        "    ROUND(AVG(rating / position), 2) AS quality,\n",
        "    ROUND(AVG(rating < 3) * 100, 2) AS poor_query_percentage\n",
        "FROM Queries\n",
        "GROUP BY 1;"
      ],
      "metadata": {
        "id": "xcKOBta-LyKM"
      },
      "execution_count": null,
      "outputs": []
    },
    {
      "cell_type": "code",
      "source": [
        "# Write your MySQL query statement below\n",
        "WITH\n",
        "    t AS (\n",
        "        SELECT DISTINCT s1.sub_id AS post_id, s2.sub_id AS sub_id\n",
        "        FROM\n",
        "            Submissions AS s1\n",
        "            LEFT JOIN Submissions AS s2 ON s1.sub_id = s2.parent_id\n",
        "        WHERE s1.parent_id IS NULL\n",
        "    )\n",
        "SELECT post_id, COUNT(sub_id) AS number_of_comments\n",
        "FROM t\n",
        "GROUP BY post_id\n",
        "ORDER BY post_id;"
      ],
      "metadata": {
        "id": "CDdW450SQJac"
      },
      "execution_count": null,
      "outputs": []
    },
    {
      "cell_type": "code",
      "source": [
        "# Write your MySQL query statement below\n",
        "SELECT\n",
        "    p.product_id,\n",
        "    IFNULL(ROUND(SUM(price * units) / SUM(units), 2), 0) AS average_price\n",
        "FROM\n",
        "    Prices AS p\n",
        "    LEFT JOIN UnitsSold AS u\n",
        "        ON p.product_id = u.product_id AND purchase_date BETWEEN start_date AND end_date\n",
        "GROUP BY 1;"
      ],
      "metadata": {
        "id": "rBr66nMIQKPW"
      },
      "execution_count": null,
      "outputs": []
    },
    {
      "cell_type": "code",
      "source": [
        "# Write your MySQL query statement below\n",
        "SELECT s.student_id, s.student_name, sb.subject_name, COUNT(e.student_id) AS attended_exams\n",
        "FROM\n",
        "    Students s\n",
        "    JOIN Subjects sb\n",
        "    LEFT JOIN Examinations AS e on e.student_id=s.student_id and sb.subject_name=e.subject_name)\n",
        "GROUP BY 1, 3\n",
        "ORDER BY 1, 3;"
      ],
      "metadata": {
        "id": "2v3Xm5ukSpIr"
      },
      "execution_count": null,
      "outputs": []
    },
    {
      "cell_type": "code",
      "source": [
        "# Write your MySQL query statement below\n",
        "SELECT\n",
        "    country_name,\n",
        "    CASE\n",
        "        WHEN AVG(weather_state) <= 15 THEN 'Cold'\n",
        "        WHEN AVG(weather_state) >= 25 THEN 'Hot'\n",
        "        ELSE 'Warm'\n",
        "    END AS weather_type\n",
        "FROM\n",
        "    Weather AS w\n",
        "    JOIN Countries USING (country_id)\n",
        "WHERE DATE_FORMAT(day, '%Y-%m') = '2019-11'\n",
        "GROUP BY 1;"
      ],
      "metadata": {
        "id": "TUAAbdjSTofZ"
      },
      "execution_count": null,
      "outputs": []
    },
    {
      "cell_type": "code",
      "source": [
        "# Write your MySQL query statement below\n",
        "WITH\n",
        "    T AS (\n",
        "        SELECT team_id, COUNT(1) AS team_size\n",
        "        FROM Employee\n",
        "        GROUP BY 1\n",
        "    )\n",
        "SELECT employee_id, team_size\n",
        "FROM\n",
        "    Employee\n",
        "    JOIN T USING (team_id);"
      ],
      "metadata": {
        "id": "d899BayDTpTA"
      },
      "execution_count": null,
      "outputs": []
    },
    {
      "cell_type": "code",
      "source": [
        "SELECT\n",
        "    ad_id,\n",
        "    ROUND(IFNULL(SUM(action = 'Clicked') / SUM(action IN ('Clicked', 'Viewed')) * 100, 0), 2) AS ctr\n",
        "FROM Ads\n",
        "GROUP BY 1\n",
        "ORDER BY 2 DESC, 1;"
      ],
      "metadata": {
        "id": "PG7hmTKOotUi"
      },
      "execution_count": null,
      "outputs": []
    },
    {
      "cell_type": "code",
      "source": [
        "# Write your MySQL query statement below\n",
        "SELECT product_name, SUM(unit) AS unit\n",
        "FROM\n",
        "    Orders AS o\n",
        "    JOIN Products AS p ON o.product_id = p.product_id\n",
        "WHERE DATE_FORMAT(order_date, '%Y-%m') = '2020-02'\n",
        "GROUP BY o.product_id\n",
        "HAVING unit >= 100;"
      ],
      "metadata": {
        "id": "c7j2KlA0pubL"
      },
      "execution_count": null,
      "outputs": []
    },
    {
      "cell_type": "code",
      "source": [
        "# Write your MySQL query statement below\n",
        "SELECT id, name\n",
        "FROM Students\n",
        "WHERE department_id NOT IN (SELECT id FROM Departments);\n"
      ],
      "metadata": {
        "id": "VMyQJF7zqFrj"
      },
      "execution_count": null,
      "outputs": []
    },
    {
      "cell_type": "code",
      "source": [
        "# Write your MySQL query statement below\n",
        "SELECT unique_id, name\n",
        "FROM\n",
        "    Employees\n",
        "    LEFT JOIN EmployeeUNI USING (id);"
      ],
      "metadata": {
        "id": "GobJcJpeqdeq"
      },
      "execution_count": null,
      "outputs": []
    },
    {
      "cell_type": "code",
      "source": [
        "# Write your MySQL query statement below\n",
        "SELECT a.name, IFNULL(SUM(b.distance), 0) AS travelled_distance\n",
        "FROM Users AS a\n",
        "LEFT JOIN Rides AS b\n",
        "ON a.id = b.user_id\n",
        "GROUP BY a.name\n",
        "ORDER BY travelled_distance DESC, name ASC;"
      ],
      "metadata": {
        "id": "SijLI0CfsFKJ"
      },
      "execution_count": null,
      "outputs": []
    },
    {
      "cell_type": "code",
      "source": [
        "# Write your MySQL query statement below\n",
        "SELECT q.*, IFNULL(npv, 0) AS npv\n",
        "FROM\n",
        "    Queries AS q\n",
        "    LEFT JOIN NPV AS n USING (id, year);"
      ],
      "metadata": {
        "id": "DL7Ah_8ls3Ab"
      },
      "execution_count": null,
      "outputs": []
    },
    {
      "cell_type": "code",
      "source": [
        "SELECT '[0-5>' AS bin, COUNT(1) AS total FROM Sessions WHERE duration < 300\n",
        "UNION\n",
        "SELECT '[5-10>' AS bin, COUNT(1) AS total FROM Sessions WHERE 300 <= duration AND duration < 600\n",
        "UNION\n",
        "SELECT '[10-15>' AS bin, COUNT(1) AS total FROM Sessions WHERE 600 <= duration AND duration < 900\n",
        "UNION\n",
        "SELECT '15 or more' AS bin, COUNT(1) AS total FROM Sessions WHERE 900 <= duration;"
      ],
      "metadata": {
        "id": "Mjevw7ALs3kE"
      },
      "execution_count": null,
      "outputs": []
    },
    {
      "cell_type": "code",
      "source": [
        "SELECT\n",
        "    sell_date,\n",
        "    COUNT(DISTINCT product) AS num_sold,\n",
        "    GROUP_CONCAT(DISTINCT product) AS products\n",
        "FROM Activities\n",
        "GROUP BY sell_date\n",
        "ORDER BY sell_date;"
      ],
      "metadata": {
        "id": "XL9fLHMstP_M"
      },
      "execution_count": null,
      "outputs": []
    },
    {
      "cell_type": "code",
      "source": [
        "# Write your MySQL query statement below\n",
        "SELECT DISTINCT title\n",
        "FROM\n",
        "    TVProgram\n",
        "    JOIN Content USING (content_id)\n",
        "WHERE\n",
        "    DATE_FORMAT(program_date, '%Y%m') = '202006'\n",
        "    AND kids_content = 'Y'\n",
        "    AND content_type = 'Movies';"
      ],
      "metadata": {
        "id": "8qS_OiX8tzeu"
      },
      "execution_count": null,
      "outputs": []
    },
    {
      "cell_type": "code",
      "source": [
        "# Write your MySQL query statement below\n",
        "SELECT customer_id, name\n",
        "FROM\n",
        "    Orders\n",
        "    JOIN Product USING (product_id)\n",
        "    JOIN Customers USING (customer_id)\n",
        "WHERE YEAR(order_date) = 2020\n",
        "GROUP BY 1\n",
        "HAVING\n",
        "    SUM(IF(MONTH(order_date) = 6, quantity * price, 0)) >= 100\n",
        "    AND SUM(IF(MONTH(order_date) = 7, quantity * price, 0)) >= 100;"
      ],
      "metadata": {
        "id": "f0ymnZ2zv9m0"
      },
      "execution_count": null,
      "outputs": []
    },
    {
      "cell_type": "code",
      "source": [
        "# Write your MySQL query statement below\n",
        "SELECT *\n",
        "FROM Users\n",
        "WHERE mail REGEXP '^[a-zA-Z][a-zA-Z0-9_.-]*@leetcode[.]com$';"
      ],
      "metadata": {
        "id": "DTgGd0gcv-Vx"
      },
      "execution_count": null,
      "outputs": []
    },
    {
      "cell_type": "code",
      "source": [
        "SELECT\n",
        "    patient_id,\n",
        "    patient_name,\n",
        "    conditions\n",
        "FROM patients\n",
        "WHERE conditions LIKE 'DIAB1%' OR conditions LIKE '% DIAB1%';"
      ],
      "metadata": {
        "id": "wd9NVGRcxPBP"
      },
      "execution_count": null,
      "outputs": []
    },
    {
      "cell_type": "code",
      "source": [
        "# Write your MySQL query statement below\n",
        "WITH\n",
        "    t AS (\n",
        "        SELECT\n",
        "            LOWER(TRIM(product_name)) AS product_name,\n",
        "            DATE_FORMAT(sale_date, '%Y-%m') AS sale_date\n",
        "        FROM Sales\n",
        "    )\n",
        "SELECT product_name, sale_date, COUNT(1) AS total\n",
        "FROM t\n",
        "GROUP BY 1, 2\n",
        "ORDER BY 1, 2;"
      ],
      "metadata": {
        "id": "l8PTWGBvyCO2"
      },
      "execution_count": null,
      "outputs": []
    },
    {
      "cell_type": "code",
      "source": [
        "# Write your MySQL query statement below\n",
        "SELECT\n",
        "    DATE_FORMAT(order_date, '%Y-%m') AS month,\n",
        "    COUNT(order_id) AS order_count,\n",
        "    COUNT(DISTINCT customer_id) AS customer_count\n",
        "FROM Orders\n",
        "WHERE invoice > 20\n",
        "GROUP BY month;"
      ],
      "metadata": {
        "id": "o3tP4dbVzBod"
      },
      "execution_count": null,
      "outputs": []
    },
    {
      "cell_type": "code",
      "source": [
        "# Write your MySQL query statement below\n",
        "SELECT\n",
        "    name AS warehouse_name,\n",
        "    SUM(width * length * height * units) AS volume\n",
        "FROM\n",
        "    Warehouse\n",
        "    JOIN Products USING (product_id)\n",
        "GROUP BY 1;"
      ],
      "metadata": {
        "id": "vS4VZknFzCft"
      },
      "execution_count": null,
      "outputs": []
    },
    {
      "cell_type": "code",
      "source": [
        "3436. Find Valid Emails\n",
        "Description\n",
        "Table: Users\n",
        "\n",
        "+-----------------+---------+\n",
        "| Column Name     | Type    |\n",
        "+-----------------+---------+\n",
        "| user_id         | int     |\n",
        "| email           | varchar |\n",
        "+-----------------+---------+\n",
        "(user_id) is the unique key for this table.\n",
        "Each row contains a user's unique ID and email address.\n",
        "Write a solution to find all the valid email addresses. A valid email address meets the following criteria:\n",
        "\n",
        "It contains exactly one @ symbol.\n",
        "It ends with .com.\n",
        "The part before the @ symbol contains only alphanumeric characters and underscores.\n",
        "The part after the @ symbol and before .com contains a domain name that contains only letters.\n",
        "Return the result table ordered by user_id in ascending order.\n",
        "\n",
        "\n",
        "\n",
        "Example:\n",
        "\n",
        "Input:\n",
        "\n",
        "Users table:\n",
        "\n",
        "+---------+---------------------+\n",
        "| user_id | email               |\n",
        "+---------+---------------------+\n",
        "| 1       | alice@example.com   |\n",
        "| 2       | bob_at_example.com  |\n",
        "| 3       | charlie@example.net |\n",
        "| 4       | david@domain.com    |\n",
        "| 5       | eve@invalid         |\n",
        "+---------+---------------------+\n",
        "Output:\n",
        "\n",
        "+---------+-------------------+\n",
        "| user_id | email             |\n",
        "+---------+-------------------+\n",
        "| 1       | alice@example.com |\n",
        "| 4       | david@domain.com  |\n",
        "+---------+-------------------+\n",
        "Explanation:\n",
        "\n",
        "alice@example.com is valid because it contains one @, alice is alphanumeric, and example.com starts with a letter and ends with .com.\n",
        "bob_at_example.com is invalid because it contains an underscore instead of an @.\n",
        "charlie@example.net is invalid because the domain does not end with .com.\n",
        "david@domain.com is valid because it meets all criteria.\n",
        "eve@invalid is invalid because the domain does not end with .com.\n",
        "Result table is ordered by user_id in ascending order.\n",
        "\n",
        "Solutions:\n",
        "# Write your MySQL query statement below\n",
        "SELECT user_id, email\n",
        "FROM Users\n",
        "WHERE email REGEXP '^[A-Za-z0-9_]+@[A-Za-z][A-Za-z0-9]*\\\\.com$'\n",
        "ORDER BY 1;"
      ],
      "metadata": {
        "id": "O4oBKG7xzzga"
      },
      "execution_count": null,
      "outputs": []
    },
    {
      "cell_type": "code",
      "source": [
        "3465. Find Products with Valid Serial Numbers\n",
        "Description\n",
        "Table: products\n",
        "\n",
        "+--------------+------------+\n",
        "| Column Name  | Type       |\n",
        "+--------------+------------+\n",
        "| product_id   | int        |\n",
        "| product_name | varchar    |\n",
        "| description  | varchar    |\n",
        "+--------------+------------+\n",
        "(product_id) is the unique key for this table.\n",
        "Each row in the table represents a product with its unique ID, name, and description.\n",
        "Write a solution to find all products whose description contains a valid serial number pattern. A valid serial number follows these rules:\n",
        "\n",
        "It starts with the letters SN (case-sensitive).\n",
        "Followed by exactly 4 digits.\n",
        "It must have a hyphen (-) followed by exactly 4 digits.\n",
        "The serial number must be within the description (it may not necessarily start at the beginning).\n",
        "Return the result table ordered by product_id in ascending order.\n",
        "\n",
        "The result format is in the following example.\n",
        "\n",
        "\n",
        "\n",
        "Example:\n",
        "\n",
        "Input:\n",
        "\n",
        "products table:\n",
        "\n",
        "+------------+--------------+------------------------------------------------------+\n",
        "| product_id | product_name | description                                          |\n",
        "+------------+--------------+------------------------------------------------------+\n",
        "| 1          | Widget A     | This is a sample product with SN1234-5678            |\n",
        "| 2          | Widget B     | A product with serial SN9876-1234 in the description |\n",
        "| 3          | Widget C     | Product SN1234-56789 is available now                |\n",
        "| 4          | Widget D     | No serial number here                                |\n",
        "| 5          | Widget E     | Check out SN4321-8765 in this description            |\n",
        "+------------+--------------+------------------------------------------------------+\n",
        "\n",
        "Output:\n",
        "\n",
        "+------------+--------------+------------------------------------------------------+\n",
        "| product_id | product_name | description                                          |\n",
        "+------------+--------------+------------------------------------------------------+\n",
        "| 1          | Widget A     | This is a sample product with SN1234-5678            |\n",
        "| 2          | Widget B     | A product with serial SN9876-1234 in the description |\n",
        "| 5          | Widget E     | Check out SN4321-8765 in this description            |\n",
        "+------------+--------------+------------------------------------------------------+\n",
        "\n",
        "Explanation:\n",
        "\n",
        "Product 1: Valid serial number SN1234-5678\n",
        "Product 2: Valid serial number SN9876-1234\n",
        "Product 3: Invalid serial number SN1234-56789 (contains 5 digits after the hyphen)\n",
        "Product 4: No serial number in the description\n",
        "Product 5: Valid serial number SN4321-8765\n",
        "The result table is ordered by product_id in ascending order.\n",
        "\n",
        "Solutions\n",
        "Solution 1: Regex Matching\n",
        "According to the problem statement, we need to find all products that contain a valid serial number, and the rules for a valid serial number are:\n",
        "\n",
        "Starts with SN (case-sensitive).\n",
        "Followed by 4 digits.\n",
        "Must have a hyphen -, followed by 4 digits.\n",
        "Based on the above rules, we can use a regular expression to match valid serial numbers, then filter out the products that contain valid serial numbers, and finally sort them in ascending order by product_id.\n",
        "Solution:\n",
        "# Write your MySQL query statement below\n",
        "SELECT product_id, product_name, description\n",
        "FROM products\n",
        "WHERE description REGEXP '\\\\bSN[0-9]{4}-[0-9]{4}\\\\b'\n",
        "ORDER BY 1;"
      ],
      "metadata": {
        "id": "hToXJz2h9E-2"
      },
      "execution_count": null,
      "outputs": []
    },
    {
      "cell_type": "code",
      "source": [
        "3415. Find Products with Three Consecutive Digits 🔒\n",
        "Table: Products\n",
        "\n",
        "+-------------+---------+\n",
        "| Column Name | Type    |\n",
        "+-------------+---------+\n",
        "| product_id  | int     |\n",
        "| name        | varchar |\n",
        "+-------------+---------+\n",
        "product_id is the unique key for this table.\n",
        "Each row of this table contains the ID and name of a product.\n",
        "Write a solution to find all products whose names contain a sequence of exactly three digits in a row.\n",
        "\n",
        "Return the result table ordered by product_id in ascending order.\n",
        "\n",
        "The result format is in the following example.\n",
        "\n",
        "\n",
        "\n",
        "Example:\n",
        "\n",
        "Input:\n",
        "\n",
        "products table:\n",
        "\n",
        "+-------------+--------------------+\n",
        "| product_id  | name               |\n",
        "+-------------+--------------------+\n",
        "| 1           | ABC123XYZ          |\n",
        "| 2           | A12B34C            |\n",
        "| 3           | Product56789       |\n",
        "| 4           | NoDigitsHere       |\n",
        "| 5           | 789Product         |\n",
        "| 6           | Item003Description |\n",
        "| 7           | Product12X34       |\n",
        "+-------------+--------------------+\n",
        "Output:\n",
        "\n",
        "+-------------+--------------------+\n",
        "| product_id  | name               |\n",
        "+-------------+--------------------+\n",
        "| 1           | ABC123XYZ          |\n",
        "| 5           | 789Product         |\n",
        "| 6           | Item003Description |\n",
        "+-------------+--------------------+\n",
        "Explanation:\n",
        "\n",
        "Product 1: ABC123XYZ contains the digits 123.\n",
        "Product 5: 789Product contains the digits 789.\n",
        "Product 6: Item003Description contains 003, which is exactly three digits.\n",
        "Note:\n",
        "\n",
        "Results are ordered by product_id in ascending order.\n",
        "Only products with exactly three consecutive digits in their names are included in the result.\n",
        "Solutions\n",
        "Solution 1: Regex Matching\n",
        "We can use regular expressions to match product names that contain three consecutive digits.\n",
        "\n",
        "MySQL\n",
        "# Write your MySQL query statement below\n",
        "SELECT product_id, name\n",
        "FROM Products\n",
        "WHERE name REGEXP '(^|[^0-9])[0-9]{3}([^0-9]|$)'\n",
        "ORDER BY 1;"
      ],
      "metadata": {
        "id": "H-5Ooc-Exmbh"
      },
      "execution_count": null,
      "outputs": []
    },
    {
      "cell_type": "code",
      "source": [
        "3358. Books with NULL Ratings 🔒\n",
        "Description\n",
        "Table: books\n",
        "\n",
        "+----------------+---------+\n",
        "| Column Name    | Type    |\n",
        "+----------------+---------+\n",
        "| book_id        | int     |\n",
        "| title          | varchar |\n",
        "| author         | varchar |\n",
        "| published_year | int     |\n",
        "| rating         | decimal |\n",
        "+----------------+---------+\n",
        "book_id is the unique key for this table.\n",
        "Each row of this table contains information about a book including its unique ID, title, author, publication year, and rating.\n",
        "rating can be NULL, indicating that the book hasn't been rated yet.\n",
        "Write a solution to find all books that have not been rated yet (i.e., have a NULL rating).\n",
        "\n",
        "Return the result table ordered by book_id in ascending order.\n",
        "\n",
        "The result format is in the following example.\n",
        "\n",
        "\n",
        "\n",
        "Example:\n",
        "\n",
        "Input:\n",
        "\n",
        "books table:\n",
        "\n",
        "+---------+------------------------+------------------+----------------+--------+\n",
        "| book_id | title                  | author           | published_year | rating |\n",
        "+---------+------------------------+------------------+----------------+--------+\n",
        "| 1       | The Great Gatsby       | F. Scott         | 1925           | 4.5    |\n",
        "| 2       | To Kill a Mockingbird  | Harper Lee       | 1960           | NULL   |\n",
        "| 3       | Pride and Prejudice    | Jane Austen      | 1813           | 4.8    |\n",
        "| 4       | The Catcher in the Rye | J.D. Salinger    | 1951           | NULL   |\n",
        "| 5       | Animal Farm            | George Orwell    | 1945           | 4.2    |\n",
        "| 6       | Lord of the Flies      | William Golding  | 1954           | NULL   |\n",
        "+---------+------------------------+------------------+----------------+--------+\n",
        "Output:\n",
        "\n",
        "+---------+------------------------+------------------+----------------+\n",
        "| book_id | title                  | author           | published_year |\n",
        "+---------+------------------------+------------------+----------------+\n",
        "| 2       | To Kill a Mockingbird  | Harper Lee       | 1960           |\n",
        "| 4       | The Catcher in the Rye | J.D. Salinger    | 1951           |\n",
        "| 6       | Lord of the Flies      | William Golding  | 1954           |\n",
        "+---------+------------------------+------------------+----------------+\n",
        "Explanation:\n",
        "\n",
        "The books with book_id 2, 4, and 6 have NULL ratings.\n",
        "These books are included in the result table.\n",
        "The other books (book_id 1, 3, and 5) have ratings and are not included.\n",
        "The result is ordered by book_id in ascending order\n",
        "Solutions\n",
        "Solution 1: Conditional Filtering\n",
        "We directly filter out books where rating is NULL, then sort them in ascending order by book_id.\n",
        "\n",
        "Note that the result set should only include the fields book_id, title, author, and published_year.\n",
        "\n",
        "MySQL\n",
        "# Write your MySQL query statement below\n",
        "SELECT book_id, title, author, published_year\n",
        "FROM books\n",
        "WHERE rating IS NULL\n",
        "ORDER BY 1;"
      ],
      "metadata": {
        "id": "R2Gp01U-zeic"
      },
      "execution_count": null,
      "outputs": []
    },
    {
      "cell_type": "code",
      "source": [
        "3246. Premier League Table Ranking 🔒\n",
        "Description\n",
        "Table: TeamStats\n",
        "\n",
        "+------------------+---------+\n",
        "| Column Name      | Type    |\n",
        "+------------------+---------+\n",
        "| team_id          | int     |\n",
        "| team_name        | varchar |\n",
        "| matches_played   | int     |\n",
        "| wins             | int     |\n",
        "| draws            | int     |\n",
        "| losses           | int     |\n",
        "+------------------+---------+\n",
        "team_id is the unique key for this table.\n",
        "This table contains team id, team name, matches_played, wins, draws, and losses.\n",
        "Write a solution to calculate the points and rank for each team in the league. Points are calculated as follows:\n",
        "\n",
        "3 points for a win\n",
        "1 point for a draw\n",
        "0 points for a loss\n",
        "Note: Teams with the same points must be assigned the same rank.\n",
        "\n",
        "Return the result table ordered by points in descending, and then by team_name in ascending order.\n",
        "\n",
        "The query result format is in the following example.\n",
        "\n",
        "\n",
        "\n",
        "Example:\n",
        "\n",
        "Input:\n",
        "\n",
        "TeamStats table:\n",
        "\n",
        "+---------+-----------------+----------------+------+-------+--------+\n",
        "| team_id | team_name       | matches_played | wins | draws | losses |\n",
        "+---------+-----------------+----------------+------+-------+--------+\n",
        "| 1       | Manchester City | 10             | 6    | 2     | 2      |\n",
        "| 2       | Liverpool       | 10             | 6    | 2     | 2      |\n",
        "| 3       | Chelsea         | 10             | 5    | 3     | 2      |\n",
        "| 4       | Arsenal         | 10             | 4    | 4     | 2      |\n",
        "| 5       | Tottenham       | 10             | 3    | 5     | 2      |\n",
        "+---------+-----------------+----------------+------+-------+--------+\n",
        "Output:\n",
        "\n",
        "+---------+-----------------+--------+----------+\n",
        "| team_id | team_name       | points | position |\n",
        "+---------+-----------------+--------+----------+\n",
        "| 2       | Liverpool       | 20     | 1        |\n",
        "| 1       | Manchester City | 20     | 1        |\n",
        "| 3       | Chelsea         | 18     | 3        |\n",
        "| 4       | Arsenal         | 16     | 4        |\n",
        "| 5       | Tottenham       | 14     | 5        |\n",
        "+---------+-----------------+--------+----------+\n",
        "Explanation:\n",
        "\n",
        "Manchester City and Liverpool both have 20 points (6 wins * 3 points + 2 draws * 1 point), so they share position 1.\n",
        "Chelsea has 18 points (5 wins * 3 points + 3 draws * 1 point) and is position 3rd.\n",
        "Arsenal has 16 points (4 wins * 3 points + 4 draws * 1 point) and is position 4th.\n",
        "Tottenham has 14 points (3 wins * 3 points + 5 draws * 1 point) and is position 5th.\n",
        "The output table is ordered by points in descending order, then by team_name in ascending order.\n",
        "\n",
        "Solutions\n",
        "Solution 1: Window Function\n",
        "We can use the RANK() window function to calculate the ranking of the teams, and then sort by score and team name.\n",
        "\n",
        "MySQL\n",
        "# Write your MySQL query statement below\n",
        "SELECT\n",
        "    team_id,\n",
        "    team_name,\n",
        "    wins * 3 + draws points,\n",
        "    RANK() OVER (ORDER BY (wins * 3 + draws) DESC) position\n",
        "FROM TeamStats\n",
        "ORDER BY 3 DESC, 2;"
      ],
      "metadata": {
        "id": "Vu2mvOocz7Nq"
      },
      "execution_count": null,
      "outputs": []
    },
    {
      "cell_type": "code",
      "source": [
        "3198. Find Cities in Each State 🔒\n",
        "Description\n",
        "Table: cities\n",
        "\n",
        "+-------------+---------+\n",
        "| Column Name | Type    |\n",
        "+-------------+---------+\n",
        "| state       | varchar |\n",
        "| city        | varchar |\n",
        "+-------------+---------+\n",
        "(state, city) is the primary key (combination of columns with unique values) for this table.\n",
        "Each row of this table contains the state name and the city name within that state.\n",
        "Write a solution to find all the cities in each state and combine them into a single comma-separated string.\n",
        "\n",
        "Return the result table ordered by state and city in ascending order.\n",
        "\n",
        "The result format is in the following example.\n",
        "\n",
        "\n",
        "\n",
        "Example:\n",
        "\n",
        "Input:\n",
        "\n",
        "cities table:\n",
        "\n",
        "+-------------+---------------+\n",
        "| state       | city          |\n",
        "+-------------+---------------+\n",
        "| California  | Los Angeles   |\n",
        "| California  | San Francisco |\n",
        "| California  | San Diego     |\n",
        "| Texas       | Houston       |\n",
        "| Texas       | Austin        |\n",
        "| Texas       | Dallas        |\n",
        "| New York    | New York City |\n",
        "| New York    | Buffalo       |\n",
        "| New York    | Rochester     |\n",
        "+-------------+---------------+\n",
        "Output:\n",
        "\n",
        "+-------------+---------------------------------------+\n",
        "| state       | cities                                |\n",
        "+-------------+---------------------------------------+\n",
        "| California  | Los Angeles, San Diego, San Francisco |\n",
        "| New York    | Buffalo, New York City, Rochester     |\n",
        "| Texas       | Austin, Dallas, Houston               |\n",
        "+-------------+---------------------------------------+\n",
        "Explanation:\n",
        "\n",
        "California: All cities (\"Los Angeles\", \"San Diego\", \"San Francisco\") are listed in a comma-separated string.\n",
        "New York: All cities (\"Buffalo\", \"New York City\", \"Rochester\") are listed in a comma-separated string.\n",
        "Texas: All cities (\"Austin\", \"Dallas\", \"Houston\") are listed in a comma-separated string.\n",
        "Note: The output table is ordered by the state name in ascending order.\n",
        "\n",
        "Solutions\n",
        "Solution 1: Grouping and Aggregation\n",
        "We can first group by the state field, then sort the city field within each group, and finally use the GROUP_CONCAT function to concatenate the sorted city names into a comma-separated string.\n",
        "\n",
        "MySQL\n",
        "# Write your MySQL query statement below\n",
        "SELECT\n",
        "    state,\n",
        "    GROUP_CONCAT(city ORDER BY city SEPARATOR ', ') cities\n",
        "FROM cities\n",
        "GROUP BY 1\n",
        "ORDER BY 1;"
      ],
      "metadata": {
        "id": "_IFWyl0N038l"
      },
      "execution_count": null,
      "outputs": []
    },
    {
      "cell_type": "code",
      "source": [
        "3172. Second Day Verification 🔒\n",
        "Description\n",
        "Table: emails\n",
        "\n",
        "+-------------+----------+\n",
        "| Column Name | Type     |\n",
        "+-------------+----------+\n",
        "| email_id    | int      |\n",
        "| user_id     | int      |\n",
        "| signup_date | datetime |\n",
        "+-------------+----------+\n",
        "(email_id, user_id) is the primary key (combination of columns with unique values) for this table.\n",
        "Each row of this table contains the email ID, user ID, and signup date.\n",
        "\n",
        "Table: texts\n",
        "\n",
        "+---------------+----------+\n",
        "| Column Name   | Type     |\n",
        "+---------------+----------+\n",
        "| text_id       | int      |\n",
        "| email_id      | int      |\n",
        "| signup_action | enum     |\n",
        "| action_date   | datetime |\n",
        "+---------------+----------+\n",
        "(text_id, email_id) is the primary key (combination of columns with unique values) for this table.\n",
        "signup_action is an enum type of ('Verified', 'Not Verified').\n",
        "Each row of this table contains the text ID, email ID, signup action, and action date.\n",
        "\n",
        "Write a Solution to find the user IDs of those who verified their sign-up on the second day.\n",
        "\n",
        "Return the result table ordered by user_id in ascending order.\n",
        "\n",
        "The result format is in the following example.\n",
        "\n",
        "\n",
        "\n",
        "Example:\n",
        "\n",
        "Input:\n",
        "\n",
        "emails table:\n",
        "\n",
        "+----------+---------+---------------------+\n",
        "| email_id | user_id | signup_date         |\n",
        "+----------+---------+---------------------+\n",
        "| 125      | 7771    | 2022-06-14 09:30:00|\n",
        "| 433      | 1052    | 2022-07-09 08:15:00|\n",
        "| 234      | 7005    | 2022-08-20 10:00:00|\n",
        "+----------+---------+---------------------+\n",
        "\n",
        "texts table:\n",
        "\n",
        "+---------+----------+--------------+---------------------+\n",
        "| text_id | email_id | signup_action| action_date         |\n",
        "+---------+----------+--------------+---------------------+\n",
        "| 1       | 125      | Verified     | 2022-06-15 08:30:00|\n",
        "| 2       | 433      | Not Verified | 2022-07-10 10:45:00|\n",
        "| 4       | 234      | Verified     | 2022-08-21 09:30:00|\n",
        "+---------+----------+--------------+---------------------+\n",
        "\n",
        "Output:\n",
        "\n",
        "+---------+\n",
        "| user_id |\n",
        "+---------+\n",
        "| 7005    |\n",
        "| 7771    |\n",
        "+---------+\n",
        "Explanation:\n",
        "\n",
        "User with user_id 7005 and email_id 234 signed up on 2022-08-20 10:00:00 and verified on second day of the signup.\n",
        "User with user_id 7771 and email_id 125 signed up on 2022-06-14 09:30:00 and verified on second day of the signup.\n",
        "Solutions\n",
        "Solution 1: Joining Two Tables\n",
        "We can join the two tables and then use the DATEDIFF function to calculate whether the difference between the registration date and the operation date is equal to 1, and whether the registration operation is Verified, to filter out the user IDs that meet the conditions.\n",
        "\n",
        "MySQL\n",
        "# Write your MySQL query statement below\n",
        "SELECT user_id\n",
        "FROM\n",
        "    Emails AS e\n",
        "    JOIN texts AS t\n",
        "        ON e.email_id = t.email_id\n",
        "        AND DATEDIFF(action_date, signup_date) = 1\n",
        "        AND signup_action = 'Verified'\n",
        "ORDER BY 1;"
      ],
      "metadata": {
        "id": "qPlR-T1B1beH"
      },
      "execution_count": null,
      "outputs": []
    },
    {
      "cell_type": "code",
      "source": [
        "3150. Invalid Tweets II 🔒\n",
        "Description\n",
        "Table: Tweets\n",
        "\n",
        "+----------------+---------+\n",
        "| Column Name    | Type    |\n",
        "+----------------+---------+\n",
        "| tweet_id       | int     |\n",
        "| content        | varchar |\n",
        "+----------------+---------+\n",
        "tweet_id is the primary key (column with unique values) for this table.\n",
        "This table contains all the tweets in a social media app.\n",
        "Write a solution to find invalid tweets. A tweet is considered invalid if it meets any of the following criteria:\n",
        "\n",
        "It exceeds 140 characters in length.\n",
        "It has more than 3 mentions.\n",
        "It includes more than 3 hashtags.\n",
        "Return the result table ordered by tweet_id in ascending order.\n",
        "\n",
        "The result format is in the following example.\n",
        "\n",
        "\n",
        "\n",
        "Example:\n",
        "\n",
        "Input:\n",
        "\n",
        "Tweets table:\n",
        "\n",
        "  +----------+-----------------------------------------------------------------------------------+\n",
        "  | tweet_id | content                                                                           |\n",
        "  +----------+-----------------------------------------------------------------------------------+\n",
        "  | 1        | Traveling, exploring, and living my best life @JaneSmith @SaraJohnson @LisaTaylor |\n",
        "  |          | @MikeBrown #Foodie #Fitness #Learning                                             |\n",
        "  | 2        | Just had the best dinner with friends! #Foodie #Friends #Fun                      |\n",
        "  | 4        | Working hard on my new project #Work #Goals #Productivity #Fun                    |\n",
        "  +----------+-----------------------------------------------------------------------------------+\n",
        "\n",
        "Output:\n",
        "\n",
        "  +----------+\n",
        "  | tweet_id |\n",
        "  +----------+\n",
        "  | 1        |\n",
        "  | 4        |\n",
        "  +----------+\n",
        "\n",
        "Explanation:\n",
        "\n",
        "tweet_id 1 contains 4 mentions.\n",
        "tweet_id 4 contains 4 hashtags.\n",
        "Output table is ordered by tweet_id in ascending order.\n",
        "Solutions\n",
        "Solution 1: LENGTH() Function + REPLACE() Function\n",
        "We can use the LENGTH() function to calculate the length of the string, calculate the length after excluding @ or #, then use the OR operator to connect these three conditions, filter out the corresponding tweet_id, and sort by tweet_id in ascending order.\n",
        "\n",
        "MySQL\n",
        "# Write your MySQL query statement below\n",
        "SELECT tweet_id\n",
        "FROM Tweets\n",
        "WHERE\n",
        "    LENGTH(content) > 140\n",
        "    OR (LENGTH(content) - LENGTH(REPLACE(content, '@', ''))) > 3\n",
        "    OR (LENGTH(content) - LENGTH(REPLACE(content, '#', ''))) > 3\n",
        "ORDER BY 1;"
      ],
      "metadata": {
        "id": "wOQxnqh5slCt"
      },
      "execution_count": null,
      "outputs": []
    },
    {
      "cell_type": "code",
      "source": [
        "3053. Classifying Triangles by Lengths 🔒\n",
        "Description\n",
        "Table: Triangles\n",
        "\n",
        "+-------------+------+\n",
        "| Column Name | Type |\n",
        "+-------------+------+\n",
        "| A           | int  |\n",
        "| B           | int  |\n",
        "| C           | int  |\n",
        "+-------------+------+\n",
        "(A, B, C) is the primary key for this table.\n",
        "Each row include the lengths of each of a triangle's three sides.\n",
        "Write a query to find the type of triangle. Output one of the following for each row:\n",
        "\n",
        "Equilateral: It's a triangle with 3 sides of equal length.\n",
        "Isosceles: It's a triangle with 2 sides of equal length.\n",
        "Scalene: It's a triangle with 3 sides of differing lengths.\n",
        "Not A Triangle: The given values of A, B, and C don't form a triangle.\n",
        "Return the result table in any order.\n",
        "\n",
        "The result format is in the following example.\n",
        "\n",
        "\n",
        "\n",
        "Example 1:\n",
        "\n",
        "Input:\n",
        "Triangles table:\n",
        "+----+----+----+\n",
        "| A  | B  | C  |\n",
        "+----+----+----+\n",
        "| 20 | 20 | 23 |\n",
        "| 20 | 20 | 20 |\n",
        "| 20 | 21 | 22 |\n",
        "| 13 | 14 | 30 |\n",
        "+----+----+----+\n",
        "Output:\n",
        "+----------------+\n",
        "| triangle_type  |\n",
        "+----------------+\n",
        "| Isosceles      |\n",
        "| Equilateral    |\n",
        "| Scalene        |\n",
        "| Not A Triangle |\n",
        "+----------------+\n",
        "Explanation:\n",
        "- Values in the first row from an Isosceles triangle, because A = B.\n",
        "- Values in the second row from an Equilateral triangle, because A = B = C.\n",
        "- Values in the third row from an Scalene triangle, because A != B != C.\n",
        "- Values in the fourth row cannot form a triangle, because the combined value of sides A and B is not larger than that of side C.\n",
        "Solutions\n",
        "Solution 1: Using CASE WHEN Statement\n",
        "We can use the CASE WHEN statement to determine the type of the triangle.\n",
        "\n",
        "First, we need to determine whether the three sides can form a triangle. If not, we return Not A Triangle.\n",
        "\n",
        "Then, we check if the lengths of the three sides are equal. If they are, we return Equilateral.\n",
        "\n",
        "Next, we check if there are two sides with equal length. If there are, we return Isosceles.\n",
        "\n",
        "Otherwise, it means that the lengths of the three sides are all different, so we return Scalene.\n",
        "\n",
        "MySQL\n",
        "# Write your MySQL query statement below\n",
        "SELECT\n",
        "    CASE\n",
        "        WHEN A + B <= C\n",
        "        OR A + C <= B\n",
        "        OR B + C <= A THEN 'Not A Triangle'\n",
        "        WHEN A = B\n",
        "        AND B = c THEN 'Equilateral'\n",
        "        WHEN (A = B) + (B = C) + (A = C) = 1 THEN 'Isosceles'\n",
        "        ELSE 'Scalene'\n",
        "    END AS triangle_type\n",
        "FROM Triangles;"
      ],
      "metadata": {
        "id": "CutVIQ2et0X0"
      },
      "execution_count": null,
      "outputs": []
    },
    {
      "cell_type": "code",
      "source": [
        "3051. Find Candidates for Data Scientist Position 🔒\n",
        "Description\n",
        "Table: Candidates\n",
        "\n",
        "+--------------+---------+\n",
        "| Column Name  | Type    |\n",
        "+--------------+---------+\n",
        "| candidate_id | int     |\n",
        "| skill        | varchar |\n",
        "+--------------+---------+\n",
        "(candidate_id, skill) is the primary key (columns with unique values) for this table.\n",
        "Each row includes candidate_id and skill.\n",
        "Write a query to find the candidates best suited for a Data Scientist position. The candidate must be proficient in Python, Tableau, and PostgreSQL.\n",
        "\n",
        "Return the result table ordered by candidate_id in ascending order.\n",
        "\n",
        "The result format is in the following example.\n",
        "\n",
        "\n",
        "\n",
        "Example 1:\n",
        "\n",
        "Input:\n",
        "Candidates table:\n",
        "+---------------+--------------+\n",
        "| candidate_id  | skill        |\n",
        "+---------------+--------------+\n",
        "| 123           | Python       |\n",
        "| 234           | R            |\n",
        "| 123           | Tableau      |\n",
        "| 123           | PostgreSQL   |\n",
        "| 234           | PowerBI      |\n",
        "| 234           | SQL Server   |\n",
        "| 147           | Python       |\n",
        "| 147           | Tableau      |\n",
        "| 147           | Java         |\n",
        "| 147           | PostgreSQL   |\n",
        "| 256           | Tableau      |\n",
        "| 102           | DataAnalysis |\n",
        "+---------------+--------------+\n",
        "Output:\n",
        "+--------------+\n",
        "| candidate_id |\n",
        "+--------------+\n",
        "| 123          |\n",
        "| 147          |\n",
        "+--------------+\n",
        "Explanation:\n",
        "- Candidates 123 and 147 possess the necessary skills in Python, Tableau, and PostgreSQL for the data scientist position.\n",
        "- Candidates 234 and 102 do not possess any of the required skills for this position.\n",
        "- Candidate 256 has proficiency in Tableau but is missing skills in Python and PostgreSQL.\n",
        "The output table is sorted by candidate_id in ascending order.\n",
        "Solutions\n",
        "Solution 1: Conditional Filtering + Grouping Statistics\n",
        "First, we filter out candidates who have the skills Python, Tableau, and PostgreSQL. Then, we group by candidate_id and count the number of skills each candidate has. Finally, we filter out candidates who have these three skills and sort them in ascending order by candidate_id.\n",
        "\n",
        "MySQL\n",
        "# Write your MySQL query statement below\n",
        "SELECT candidate_id\n",
        "FROM Candidates\n",
        "WHERE skill IN ('Python', 'Tableau', 'PostgreSQL')\n",
        "GROUP BY 1\n",
        "HAVING COUNT(1) = 3\n",
        "ORDER BY 1;"
      ],
      "metadata": {
        "id": "p6vnxyMYwMMj"
      },
      "execution_count": null,
      "outputs": []
    }
  ]
}