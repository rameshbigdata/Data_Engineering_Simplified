{
  "nbformat": 4,
  "nbformat_minor": 0,
  "metadata": {
    "colab": {
      "provenance": [],
      "authorship_tag": "ABX9TyN3W3071rEO0Ar1Ii5nfmuj",
      "include_colab_link": true
    },
    "kernelspec": {
      "name": "python3",
      "display_name": "Python 3"
    },
    "language_info": {
      "name": "python"
    }
  },
  "cells": [
    {
      "cell_type": "markdown",
      "metadata": {
        "id": "view-in-github",
        "colab_type": "text"
      },
      "source": [
        "<a href=\"https://colab.research.google.com/github/rameshbigdata/Data_Engineering_Simplified/blob/main/LeetcodeExamples.ipynb\" target=\"_parent\"><img src=\"https://colab.research.google.com/assets/colab-badge.svg\" alt=\"Open In Colab\"/></a>"
      ]
    },
    {
      "cell_type": "code",
      "execution_count": null,
      "metadata": {
        "id": "nTmFFaL_sog3"
      },
      "outputs": [],
      "source": []
    },
    {
      "cell_type": "markdown",
      "source": [
        "**2206. Divide Array Into Equal Pairs**\n",
        "\n",
        "Description:\n",
        "You need to divide nums into n pairs such that:\n",
        "\n",
        "Each element belongs to exactly one pair.\n",
        "The elements present in a pair are equal.\n",
        "Return true if nums can be divided into n pairs, otherwise return false.\n",
        "\n",
        "\n",
        "\n",
        "Example 1:\n",
        "\n",
        "Input: nums = [3,2,3,2,2,2]\n",
        "Output: true\n",
        "Explanation:\n",
        "There are 6 elements in nums, so they should be divided into 6 / 2 = 3 pairs.\n",
        "If nums is divided into the pairs (2, 2), (3, 3), and (2, 2), it will satisfy all the conditions.\n",
        "Example 2:\n",
        "\n",
        "Input: nums = [1,2,3,4]\n",
        "Output: false\n",
        "Explanation:\n",
        "There is no way to divide nums into 4 / 2 = 2 pairs such that the pairs satisfy every condition.\n"
      ],
      "metadata": {
        "id": "2fbGRREass1c"
      }
    },
    {
      "cell_type": "code",
      "source": [
        "WITH NumberCounts AS (\n",
        "    SELECT num, COUNT(*) AS count\n",
        "    FROM numbers\n",
        "    GROUP BY num\n",
        ")\n",
        "SELECT CASE\n",
        "    WHEN SUM(count % 2) = 0 THEN 'True'\n",
        "    ELSE 'False'\n",
        "END AS can_be_divided\n",
        "FROM NumberCounts;"
      ],
      "metadata": {
        "id": "iW4SKLk93Dba"
      },
      "execution_count": null,
      "outputs": []
    },
    {
      "cell_type": "markdown",
      "source": [
        "**175. Combine Two Tables**\n",
        "\n",
        "Description:\n",
        "Table: Person\n",
        "\n",
        "+-------------+---------+\n",
        "| Column Name | Type    |\n",
        "+-------------+---------+\n",
        "| personId    | int     |\n",
        "| lastName    | varchar |\n",
        "| firstName   | varchar |\n",
        "+-------------+---------+\n",
        "personId is the primary key (column with unique values) for this table.\n",
        "This table contains information about the ID of some persons and their first and last names.\n",
        "\n",
        "\n",
        "Table: Address\n",
        "\n",
        "+-------------+---------+\n",
        "| Column Name | Type    |\n",
        "+-------------+---------+\n",
        "| addressId   | int     |\n",
        "| personId    | int     |\n",
        "| city        | varchar |\n",
        "| state       | varchar |\n",
        "+-------------+---------+\n",
        "addressId is the primary key (column with unique values) for this table.\n",
        "Each row of this table contains information about the city and state of one person with ID = PersonId.\n",
        "\n",
        "\n",
        "Write a solution to report the first name, last name, city, and state of each person in the Person table. If the address of a personId is not present in the Address table, report null instead.\n",
        "\n",
        "Return the result table in any order.\n",
        "\n",
        "The result format is in the following example.\n",
        "\n",
        "\n",
        "\n",
        "Example 1:\n",
        "\n",
        "Input:\n",
        "Person table:\n",
        "+----------+----------+-----------+\n",
        "| personId | lastName | firstName |\n",
        "+----------+----------+-----------+\n",
        "| 1        | Wang     | Allen     |\n",
        "| 2        | Alice    | Bob       |\n",
        "+----------+----------+-----------+\n",
        "Address table:\n",
        "+-----------+----------+---------------+------------+\n",
        "| addressId | personId | city          | state      |\n",
        "+-----------+----------+---------------+------------+\n",
        "| 1         | 2        | New York City | New York   |\n",
        "| 2         | 3        | Leetcode      | California |\n",
        "+-----------+----------+---------------+------------+\n",
        "Output:\n",
        "+-----------+----------+---------------+----------+\n",
        "| firstName | lastName | city          | state    |\n",
        "+-----------+----------+---------------+----------+\n",
        "| Allen     | Wang     | Null          | Null     |\n",
        "| Bob       | Alice    | New York City | New York |\n",
        "+-----------+----------+---------------+----------+\n",
        "Explanation:\n",
        "There is no address in the address table for the personId = 1 so we return null in their city and state.\n",
        "addressId = 1 contains information about the address of personId = 2."
      ],
      "metadata": {
        "id": "-LyD1WSp3r8P"
      }
    },
    {
      "cell_type": "code",
      "source": [
        "SELECT firstName, lastName, city, state\n",
        "FROM\n",
        "    Person\n",
        "    LEFT JOIN Address on Person.personId=Address.personId;"
      ],
      "metadata": {
        "id": "ecV8weyT5nGs"
      },
      "execution_count": null,
      "outputs": []
    },
    {
      "cell_type": "markdown",
      "source": [
        "181. Employees Earning More Than Their Managers\n",
        "Description:\n",
        "Table: Employee\n",
        "\n",
        "+-------------+---------+\n",
        "| Column Name | Type    |\n",
        "+-------------+---------+\n",
        "| id          | int     |\n",
        "| name        | varchar |\n",
        "| salary      | int     |\n",
        "| managerId   | int     |\n",
        "+-------------+---------+\n",
        "id is the primary key (column with unique values) for this table.\n",
        "Each row of this table indicates the ID of an employee, their name, salary, and the ID of their manager.\n",
        "\n",
        "\n",
        "Write a solution to find the employees who earn more than their managers.\n",
        "\n",
        "Return the result table in any order.\n",
        "\n",
        "The result format is in the following example.\n",
        "\n",
        "\n",
        "\n",
        "Example 1:\n",
        "\n",
        "Input:\n",
        "Employee table:\n",
        "+----+-------+--------+-----------+\n",
        "| id | name  | salary | managerId |\n",
        "+----+-------+--------+-----------+\n",
        "| 1  | Joe   | 70000  | 3         |\n",
        "| 2  | Henry | 80000  | 4         |\n",
        "| 3  | Sam   | 60000  | Null      |\n",
        "| 4  | Max   | 90000  | Null      |\n",
        "+----+-------+--------+-----------+\n",
        "Output:\n",
        "+----------+\n",
        "| Employee |\n",
        "+----------+\n",
        "| Joe      |\n",
        "+----------+\n",
        "Explanation: Joe is the only employee who earns more than his manager.\n",
        "\n",
        "\n"
      ],
      "metadata": {
        "id": "j0MPdw2g5zBh"
      }
    },
    {
      "cell_type": "code",
      "source": [
        "SELECT e1.Name FROM Employee e1\n",
        "JOIN Employee e2 ON e1.ManagerId = e2.Id\n",
        "WHERE e1.Salary > e2.Salary;\n",
        "\n",
        "--\n",
        "\n",
        "SELECT e1.Name FROM Employee e1, Employee e2\n",
        "WHERE e1.ManagerId = e2.Id AND e1.Salary > e2.Salary;\n",
        "\n",
        "--\n",
        "\n",
        "SELECT Name AS Employee\n",
        "FROM Employee AS Curr\n",
        "WHERE\n",
        "    Salary > (\n",
        "        SELECT Salary\n",
        "        FROM Employee\n",
        "        WHERE Id = Curr.ManagerId\n",
        "    );"
      ],
      "metadata": {
        "id": "Ah9RGxEt6tCq"
      },
      "execution_count": null,
      "outputs": []
    },
    {
      "cell_type": "markdown",
      "source": [
        "182. Duplicate Emails\n",
        "Write a SQL query to find all duplicate emails in a table named Person.\n",
        "\n",
        "+----+---------+\n",
        "| Id | Email   |\n",
        "+----+---------+\n",
        "| 1  | a@b.com |\n",
        "| 2  | c@d.com |\n",
        "| 3  | a@b.com |\n",
        "+----+---------+\n",
        "For example, your query should return the following for the above table:\n",
        "\n",
        "+---------+\n",
        "| Email   |\n",
        "+---------+\n",
        "| a@b.com |\n",
        "+---------+"
      ],
      "metadata": {
        "id": "OhFWS9-A65GV"
      }
    },
    {
      "cell_type": "code",
      "source": [
        "SELECT Email FROM Person GROUP BY Email\n",
        "HAVING COUNT(*) > 1;\n",
        "\n",
        "--\n",
        "\n",
        "SELECT DISTINCT p1.Email FROM Person p1\n",
        "JOIN Person p2 ON p1.Email = p2.Email\n",
        "WHERE p1.Id <> p2.Id;"
      ],
      "metadata": {
        "id": "WLh3P8CP8JiH"
      },
      "execution_count": null,
      "outputs": []
    },
    {
      "cell_type": "code",
      "source": [
        "183. Customers Who Never Order\n",
        "Suppose that a website contains two tables, the Customers table and the Orders table. Write a SQL query to find all customers who never order anything.\n",
        "\n",
        "Table: Customers.\n",
        "\n",
        "+----+-------+\n",
        "| Id | Name  |\n",
        "+----+-------+\n",
        "| 1  | Joe   |\n",
        "| 2  | Henry |\n",
        "| 3  | Sam   |\n",
        "| 4  | Max   |\n",
        "+----+-------+\n",
        "Table: Orders.\n",
        "\n",
        "+----+------------+\n",
        "| Id | CustomerId |\n",
        "+----+------------+\n",
        "| 1  | 3          |\n",
        "| 2  | 1          |\n",
        "+----+------------+\n",
        "Using the above tables as example, return the following:\n",
        "\n",
        "+-----------+\n",
        "| Customers |\n",
        "+-----------+\n",
        "| Henry     |\n",
        "| Max       |\n",
        "+-----------+"
      ],
      "metadata": {
        "id": "GY1-CLI58OmG"
      },
      "execution_count": null,
      "outputs": []
    },
    {
      "cell_type": "code",
      "source": [
        "SELECT name AS Customers\n",
        "FROM Customers\n",
        "WHERE\n",
        "    id NOT IN (\n",
        "        SELECT customerId\n",
        "        FROM Orders\n",
        "    );\n",
        "Solution -2 :\n",
        "select name from Customers left join Orders on id=customerId where customerId is null;"
      ],
      "metadata": {
        "id": "L1F7KxBu8cwD"
      },
      "execution_count": null,
      "outputs": []
    },
    {
      "cell_type": "code",
      "source": [
        "196. Delete Duplicate Emails\n",
        "Description\n",
        "Table: Person\n",
        "\n",
        "+-------------+---------+\n",
        "| Column Name | Type    |\n",
        "+-------------+---------+\n",
        "| id          | int     |\n",
        "| email       | varchar |\n",
        "+-------------+---------+\n",
        "id is the primary key (column with unique values) for this table.\n",
        "Each row of this table contains an email. The emails will not contain uppercase letters.\n",
        "\n",
        "\n",
        "Write a solution to delete all duplicate emails, keeping only one unique email with the smallest id.\n",
        "\n",
        "For  SQL users, please note that you are supposed to write a DELETE statement and not a SELECT one.\n",
        "\n",
        "For Pandas users, please note that you are supposed to modify Person in place.\n",
        "\n",
        "After running your script, the answer shown is the Person table. The driver will first compile and run your piece of code and then show the Person table. The final order of the Person table does not matter.\n",
        "\n",
        "The result format is in the following example.\n",
        "\n",
        "\n",
        "\n",
        "Example 1:\n",
        "\n",
        "Input:\n",
        "Person table:\n",
        "+----+------------------+\n",
        "| id | email            |\n",
        "+----+------------------+\n",
        "| 1  | john@example.com |\n",
        "| 2  | bob@example.com  |\n",
        "| 3  | john@example.com |\n",
        "+----+------------------+\n",
        "Output:\n",
        "+----+------------------+\n",
        "| id | email            |\n",
        "+----+------------------+\n",
        "| 1  | john@example.com |\n",
        "| 2  | bob@example.com  |\n",
        "+----+------------------+\n",
        "Explanation: john@example.com is repeated two times. We keep the row with the smallest Id = 1"
      ],
      "metadata": {
        "id": "aqzTUxy7GdNG"
      },
      "execution_count": null,
      "outputs": []
    },
    {
      "cell_type": "code",
      "source": [
        "DELETE FROM Person\n",
        "WHERE Id NOT IN (\n",
        "    SELECT Id\n",
        "    FROM (SELECT MIN(Id) Id FROM Person GROUP BY Email) p\n",
        "    );\n",
        "\n",
        "--\n",
        "\n",
        "DELETE p1.*\n",
        "FROM\n",
        "    Person p1,\n",
        "    Person p2\n",
        "WHERE\n",
        "    p1.Email = p2.Email AND p1.Id > p2.Id"
      ],
      "metadata": {
        "id": "hJMZklgdGd3o"
      },
      "execution_count": null,
      "outputs": []
    },
    {
      "cell_type": "code",
      "source": [
        "197. Rising Temperature\n",
        "Description\n",
        "Table: Weather\n",
        "\n",
        "+---------------+---------+\n",
        "| Column Name   | Type    |\n",
        "+---------------+---------+\n",
        "| id            | int     |\n",
        "| recordDate    | date    |\n",
        "| temperature   | int     |\n",
        "+---------------+---------+\n",
        "id is the column with unique values for this table.\n",
        "This table contains information about the temperature on a certain day.\n",
        "\n",
        "\n",
        "Write a solution to find all dates' Id with higher temperatures compared to its previous dates (yesterday).\n",
        "\n",
        "Return the result table in any order.\n",
        "\n",
        "The result format is in the following example.\n",
        "\n",
        "\n",
        "\n",
        "Example 1:\n",
        "\n",
        "Input:\n",
        "Weather table:\n",
        "+----+------------+-------------+\n",
        "| id | recordDate | temperature |\n",
        "+----+------------+-------------+\n",
        "| 1  | 2015-01-01 | 10          |\n",
        "| 2  | 2015-01-02 | 25          |\n",
        "| 3  | 2015-01-03 | 20          |\n",
        "| 4  | 2015-01-04 | 30          |\n",
        "+----+------------+-------------+\n",
        "Output:\n",
        "+----+\n",
        "| id |\n",
        "+----+\n",
        "| 2  |\n",
        "| 4  |\n",
        "+----+\n",
        "Explanation:\n",
        "In 2015-01-02, the temperature was higher than the previous day (10 -> 25).\n",
        "In 2015-01-04, the temperature was higher than the previous day (20 -> 30)."
      ],
      "metadata": {
        "id": "hEH5h6JQHcdN"
      },
      "execution_count": null,
      "outputs": []
    },
    {
      "cell_type": "code",
      "source": [
        "SELECT w1.id\n",
        "FROM\n",
        "    Weather AS w1\n",
        "    JOIN Weather AS w2\n",
        "        ON SUBDATE(w1.recordDate, 1) = w2.recordDate AND w1.temperature > w2.temperature;"
      ],
      "metadata": {
        "id": "x2_IAXToHiaK"
      },
      "execution_count": null,
      "outputs": []
    },
    {
      "cell_type": "code",
      "source": [
        "# Write your MySQL query statement below\n",
        "SELECT player_id, MIN(event_date) AS first_login\n",
        "FROM Activity\n",
        "GROUP BY 1;"
      ],
      "metadata": {
        "id": "41orzACWHjTg"
      },
      "execution_count": null,
      "outputs": []
    },
    {
      "cell_type": "code",
      "source": [
        "SELECT\n",
        "    player_id,\n",
        "    device_id\n",
        "FROM Activity\n",
        "WHERE\n",
        "    (player_id, event_date) IN (\n",
        "        SELECT\n",
        "            player_id,\n",
        "            MIN(event_date) AS event_date\n",
        "        FROM Activity\n",
        "        GROUP BY 1\n",
        "    );"
      ],
      "metadata": {
        "id": "G4xYGL6KIVzU"
      },
      "execution_count": null,
      "outputs": []
    },
    {
      "cell_type": "code",
      "source": [
        "# Write your MySQL query statement below\n",
        "select e.name, b.bonus\n",
        "from Employee e\n",
        "left join Bonus b\n",
        "on e.empId = b.empId\n",
        "where ifnull(b.bonus,0) < 1000"
      ],
      "metadata": {
        "id": "yGAmbDewXx7d"
      },
      "execution_count": null,
      "outputs": []
    },
    {
      "cell_type": "code",
      "source": [
        "# Write your MySQL query statement below\n",
        "SELECT name\n",
        "FROM Customer\n",
        "WHERE IFNULL(referee_id, 0) != 2;"
      ],
      "metadata": {
        "id": "rlTwv2BjYusH"
      },
      "execution_count": null,
      "outputs": []
    },
    {
      "cell_type": "code",
      "source": [
        "# Write your MySQL query statement below\n",
        "SELECT customer_number\n",
        "FROM Orders\n",
        "GROUP BY 1\n",
        "ORDER BY COUNT(1) DESC\n",
        "LIMIT 1;"
      ],
      "metadata": {
        "id": "K1JloitVaEqY"
      },
      "execution_count": null,
      "outputs": []
    },
    {
      "cell_type": "code",
      "source": [
        "# Write your MySQL query statement below\n",
        "select\n",
        "name ,population , area\n",
        "from World\n",
        "where (population > 25000000 or area > 3000000);"
      ],
      "metadata": {
        "id": "05qtBlQyaFPm"
      },
      "execution_count": null,
      "outputs": []
    },
    {
      "cell_type": "code",
      "source": [
        "# Write your MySQL query statement below\n",
        "select class from Courses\n",
        "group by class\n",
        "having count(student)>=5;"
      ],
      "metadata": {
        "id": "P8jihPzYasxJ"
      },
      "execution_count": null,
      "outputs": []
    },
    {
      "cell_type": "code",
      "source": [
        "# Write your MySQL query statement below\n",
        "SELECT\n",
        "    ROUND(\n",
        "        IFNULL(\n",
        "            (\n",
        "                SELECT COUNT(DISTINCT requester_id, accepter_id)\n",
        "                FROM RequestAccepted\n",
        "            ) / (SELECT COUNT(DISTINCT sender_id, send_to_id) FROM FriendRequest),\n",
        "            0\n",
        "        ),\n",
        "        2\n",
        "    ) AS accept_rate;"
      ],
      "metadata": {
        "id": "ol-vk3Cfb_s9"
      },
      "execution_count": null,
      "outputs": []
    },
    {
      "cell_type": "code",
      "source": [
        "# Write your MySQL query statement below\n",
        "WITH\n",
        "    T AS (\n",
        "        SELECT\n",
        "            *,\n",
        "            SUM(free = 1) OVER (\n",
        "                ORDER BY seat_id\n",
        "                ROWS BETWEEN 1 PRECEDING AND 1 FOLLOWING\n",
        "            ) AS cnt\n",
        "        FROM Cinema\n",
        "    )\n",
        "SELECT seat_id\n",
        "FROM T\n",
        "WHERE free = 1 AND cnt > 1\n",
        "ORDER BY 1;\n",
        "\n",
        "select distinct seat_id from (select *,lag(free) over(order by seat_id) as prev_free,lead(free) over(order by seat_id) as next_free from cinema )\n",
        "a where (free=1 and prev_free=1) or (next_free=1 and free=1);\n",
        "\n",
        "\n",
        "select distinct c1.seat_id\n",
        "from cinema c1 inner join cinema c2 on c1.seat_id=c2.seat_id+1\n",
        "where c1.free=1 and c2.free=1;"
      ],
      "metadata": {
        "id": "W-uKQSQhcEfn"
      },
      "execution_count": null,
      "outputs": []
    },
    {
      "cell_type": "code",
      "source": [
        "# Write your MySQL query statement below\n",
        "SELECT s.name\n",
        "FROM\n",
        "    SalesPerson AS s\n",
        "    LEFT JOIN Orders USING (sales_id)\n",
        "    LEFT JOIN Company AS c USING (com_id)\n",
        "GROUP BY sales_id\n",
        "HAVING IFNULL(SUM(c.name = 'RED'), 0) = 0;"
      ],
      "metadata": {
        "id": "DcvIgdbKGXXL"
      },
      "execution_count": null,
      "outputs": []
    },
    {
      "cell_type": "code",
      "source": [
        "# Write your MySQL query statement below\n",
        "SELECT\n",
        "    *,\n",
        "    IF(x + y > z AND x + z > y AND y + z > x, 'Yes', 'No') AS triangle\n",
        "FROM Triangle;"
      ],
      "metadata": {
        "id": "lpt2O12SOGiw"
      },
      "execution_count": null,
      "outputs": []
    },
    {
      "cell_type": "code",
      "source": [
        "# Write your MySQL query statement below\n",
        "SELECT MIN(p2.x - p1.x) AS shortest\n",
        "FROM\n",
        "    Point AS p1\n",
        "    JOIN Point AS p2 ON p1.x < p2.x;"
      ],
      "metadata": {
        "id": "ppBsFGf2O74g"
      },
      "execution_count": null,
      "outputs": []
    },
    {
      "cell_type": "code",
      "source": [
        "# Write your MySQL query statement below\n",
        "SELECT MAX(num) AS num\n",
        "FROM\n",
        "    (\n",
        "        SELECT num\n",
        "        FROM MyNumbers\n",
        "        GROUP BY 1\n",
        "        HAVING COUNT(1) = 1\n",
        "    ) AS t;"
      ],
      "metadata": {
        "id": "WdjE-zXNQHSH"
      },
      "execution_count": null,
      "outputs": []
    },
    {
      "cell_type": "code",
      "source": [
        "# Write your MySQL query statement below\n",
        "SELECT *\n",
        "FROM Cinema\n",
        "WHERE description != 'boring' AND id & 1 = 1\n",
        "ORDER BY 4 DESC;"
      ],
      "metadata": {
        "id": "EInISzSvRcid"
      },
      "execution_count": null,
      "outputs": []
    },
    {
      "cell_type": "code",
      "source": [
        "# Write your MySQL query statement below\n",
        "UPDATE Salary\n",
        "SET sex = IF(sex = 'f', 'm', 'f');"
      ],
      "metadata": {
        "id": "ehktdbv3RdD0"
      },
      "execution_count": null,
      "outputs": []
    },
    {
      "cell_type": "code",
      "source": [
        "# Write your MySQL query statement below\n",
        "SELECT actor_id, director_id\n",
        "FROM ActorDirector\n",
        "GROUP BY 1, 2\n",
        "HAVING COUNT(1) >= 3;"
      ],
      "metadata": {
        "id": "KfgUO7huSZK9"
      },
      "execution_count": null,
      "outputs": []
    },
    {
      "cell_type": "code",
      "source": [
        "# Write your MySQL query statement below\n",
        "SELECT product_name, year, price\n",
        "FROM\n",
        "    Sales\n",
        "    JOIN Product USING (product_id);"
      ],
      "metadata": {
        "id": "7dI8p6ekTRjP"
      },
      "execution_count": null,
      "outputs": []
    },
    {
      "cell_type": "code",
      "source": [
        "# Write your MySQL query statement below\n",
        "SELECT product_id, SUM(quantity) AS total_quantity\n",
        "FROM Sales\n",
        "GROUP BY 1;"
      ],
      "metadata": {
        "id": "j2-kmmRDTdcN"
      },
      "execution_count": null,
      "outputs": []
    },
    {
      "cell_type": "code",
      "source": [
        "# Write your MySQL query statement\n",
        "SELECT project_id, ROUND(AVG(experience_years), 2) AS average_years\n",
        "FROM\n",
        "    Project\n",
        "    JOIN Employee USING (employee_id)\n",
        "GROUP BY 1;"
      ],
      "metadata": {
        "id": "qP6avcbmTd-Q"
      },
      "execution_count": null,
      "outputs": []
    },
    {
      "cell_type": "code",
      "source": [
        "# Write your MySQL query statement below\n",
        "\n",
        "select project_id\n",
        "from Project\n",
        "group by project_id\n",
        "having count(distinct employee_id) = (\n",
        "    select max(count_employee_id) from (\n",
        "        select project_id, count(employee_id) as count_employee_id\n",
        "        from Project\n",
        "        group by project_id\n",
        "    ) as max_employee\n",
        ");\n",
        "\n",
        "\n",
        "-- same as above, but separated into 2 parts\n",
        "WITH max_employee AS (\n",
        "    SELECT project_id, COUNT(employee_id) AS count_employee_id\n",
        "    FROM Project\n",
        "    GROUP BY project_id\n",
        ")\n",
        "\n",
        "SELECT project_id\n",
        "FROM Project\n",
        "GROUP BY project_id\n",
        "HAVING COUNT(DISTINCT employee_id) = (\n",
        "    SELECT MAX(count_employee_id)\n",
        "    FROM max_employee\n",
        ");\n",
        "\n",
        "--\n",
        "\n",
        "SELECT project_id\n",
        "FROM Project\n",
        "GROUP BY 1\n",
        "HAVING\n",
        "    COUNT(1) >= ALL (\n",
        "        SELECT COUNT(1)\n",
        "        FROM Project\n",
        "        GROUP BY project_id\n",
        "    );"
      ],
      "metadata": {
        "id": "YEDgogqnU_Gd"
      },
      "execution_count": null,
      "outputs": []
    },
    {
      "cell_type": "code",
      "source": [
        "# Write your MySQL query statement below\n",
        "SELECT seller_id\n",
        "FROM Sales\n",
        "GROUP BY seller_id\n",
        "HAVING\n",
        "    SUM(price) >= ALL (\n",
        "        SELECT SUM(price)\n",
        "        FROM Sales\n",
        "        GROUP BY seller_id\n",
        "    );"
      ],
      "metadata": {
        "id": "3wzNRmJOVAAi"
      },
      "execution_count": null,
      "outputs": []
    },
    {
      "cell_type": "code",
      "source": [
        "# Write your MySQL query statement below\n",
        "SELECT buyer_id\n",
        "FROM\n",
        "    Sales\n",
        "    JOIN Product USING (product_id)\n",
        "GROUP BY 1\n",
        "HAVING SUM(product_name = 'S8') > 0 AND SUM(product_name = 'iPhone') = 0;"
      ],
      "metadata": {
        "id": "jC27sWbBWwIX"
      },
      "execution_count": null,
      "outputs": []
    },
    {
      "cell_type": "code",
      "source": [
        "# Write your MySQL query statement below\n",
        "\n",
        "select Product.product_id, product_name\n",
        "from Product left join Sales\n",
        "on Product.product_id = Sales.product_id\n",
        "group by product_id\n",
        "having min(sale_date) >= '2019-01-01' and max(sale_date) <= '2019-03-31';\n",
        "\n",
        "--\n",
        "\n",
        "(\n",
        "    SELECT DISTINCT s.product_id, p.product_name\n",
        "    FROM Sales s LEFT JOIN Product p ON\n",
        "        s.product_id = p.product_id\n",
        "    WHERE s.sale_date >= '2019-01-01' AND\n",
        "          s.sale_date <= '2019-03-31'\n",
        ")\n",
        "EXCEPT -- MINUS if Oracle\n",
        "(\n",
        "    SELECT DISTINCT s.product_id, p.product_name\n",
        "    FROM Sales s LEFT JOIN Product p ON\n",
        "        s.product_id = p.product_id\n",
        "    WHERE s.sale_date < '2019-01-01' OR\n",
        "          s.sale_date > '2019-03-31'\n",
        ")\n",
        "\n",
        "--\n",
        "\n",
        "SELECT product_id, product_name\n",
        "FROM\n",
        "    Sales\n",
        "    JOIN Product USING (product_id)\n",
        "GROUP BY 1\n",
        "HAVING COUNT(1) = SUM(sale_date BETWEEN '2019-01-01' AND '2019-03-31');"
      ],
      "metadata": {
        "id": "bFunLyUrXP7A"
      },
      "execution_count": null,
      "outputs": []
    },
    {
      "cell_type": "code",
      "source": [
        "# Write your MySQL query statement below\n",
        "SELECT extra AS report_reason, COUNT(DISTINCT post_id) AS report_count\n",
        "FROM Actions\n",
        "WHERE action_date = '2019-07-04' AND action = 'report'\n",
        "GROUP BY 1;"
      ],
      "metadata": {
        "id": "KiMi5C9GXQ23"
      },
      "execution_count": null,
      "outputs": []
    },
    {
      "cell_type": "code",
      "source": [
        "# Write your MySQL query statement below\n",
        "SELECT activity_date AS day, COUNT(DISTINCT user_id) AS active_users\n",
        "FROM Activity\n",
        "WHERE activity_date <= '2019-07-27' AND DATEDIFF('2019-07-27', activity_date) < 30\n",
        "GROUP BY 1;"
      ],
      "metadata": {
        "id": "j5LPOgnyNfOc"
      },
      "execution_count": null,
      "outputs": []
    },
    {
      "cell_type": "code",
      "source": [
        "# Write your MySQL query statement below\n",
        "WITH\n",
        "    T AS (\n",
        "        SELECT\n",
        "            COUNT(DISTINCT session_id) AS sessions\n",
        "        FROM Activity\n",
        "        WHERE activity_date <= '2019-07-27' AND DATEDIFF('2019-07-27', activity_date) < 30\n",
        "        GROUP BY user_id\n",
        "    )\n",
        "SELECT IFNULL(ROUND(AVG(sessions), 2), 0) AS average_sessions_per_user\n",
        "FROM T;"
      ],
      "metadata": {
        "id": "uW7F10bKO_k7"
      },
      "execution_count": null,
      "outputs": []
    },
    {
      "cell_type": "code",
      "source": [
        "# Write your MySQL query statement below\n",
        "SELECT DISTINCT author_id AS id\n",
        "FROM Views\n",
        "WHERE author_id = viewer_id\n",
        "ORDER BY 1;"
      ],
      "metadata": {
        "id": "rWo08di_KOBb"
      },
      "execution_count": null,
      "outputs": []
    },
    {
      "cell_type": "code",
      "source": [
        "# Write your MySQL query statement below\n",
        "SELECT\n",
        "    ROUND(SUM(order_date = customer_pref_delivery_date) / COUNT(1) * 100, 2) AS immediate_percentage\n",
        "FROM Delivery;"
      ],
      "metadata": {
        "id": "7qcI2DPfLLwu"
      },
      "execution_count": null,
      "outputs": []
    },
    {
      "cell_type": "code",
      "source": [
        "# Write your MySQL query statement below\n",
        "SELECT\n",
        "    id,\n",
        "    SUM(\n",
        "        CASE month\n",
        "            WHEN 'Jan' THEN revenue\n",
        "        END\n",
        "    ) AS Jan_Revenue,\n",
        "    SUM(\n",
        "        CASE month\n",
        "            WHEN 'Feb' THEN revenue\n",
        "        END\n",
        "    ) AS Feb_Revenue,\n",
        "    SUM(\n",
        "        CASE month\n",
        "            WHEN 'Mar' THEN revenue\n",
        "        END\n",
        "    ) AS Mar_Revenue,\n",
        "    SUM(\n",
        "        CASE month\n",
        "            WHEN 'Apr' THEN revenue\n",
        "        END\n",
        "    ) AS Apr_Revenue,\n",
        "    SUM(\n",
        "        CASE month\n",
        "            WHEN 'May' THEN revenue\n",
        "        END\n",
        "    ) AS May_Revenue,\n",
        "    SUM(\n",
        "        CASE month\n",
        "            WHEN 'Jun' THEN revenue\n",
        "        END\n",
        "    ) AS Jun_Revenue,\n",
        "    SUM(\n",
        "        CASE month\n",
        "            WHEN 'Jul' THEN revenue\n",
        "        END\n",
        "    ) AS Jul_Revenue,\n",
        "    SUM(\n",
        "        CASE month\n",
        "            WHEN 'Aug' THEN revenue\n",
        "        END\n",
        "    ) AS Aug_Revenue,\n",
        "    SUM(\n",
        "        CASE month\n",
        "            WHEN 'Sep' THEN revenue\n",
        "        END\n",
        "    ) AS Sep_Revenue,\n",
        "    SUM(\n",
        "        CASE month\n",
        "            WHEN 'Oct' THEN revenue\n",
        "        END\n",
        "    ) AS Oct_Revenue,\n",
        "    SUM(\n",
        "        CASE month\n",
        "            WHEN 'Nov' THEN revenue\n",
        "        END\n",
        "    ) AS Nov_Revenue,\n",
        "    SUM(\n",
        "        CASE month\n",
        "            WHEN 'Dec' THEN revenue\n",
        "        END\n",
        "    ) AS Dec_Revenue\n",
        "FROM Department\n",
        "GROUP BY 1;"
      ],
      "metadata": {
        "id": "WHe9tlfDLxJ3"
      },
      "execution_count": null,
      "outputs": []
    },
    {
      "cell_type": "code",
      "source": [
        "# Write your MySQL query statement below\n",
        "SELECT\n",
        "    query_name,\n",
        "    ROUND(AVG(rating / position), 2) AS quality,\n",
        "    ROUND(AVG(rating < 3) * 100, 2) AS poor_query_percentage\n",
        "FROM Queries\n",
        "GROUP BY 1;"
      ],
      "metadata": {
        "id": "xcKOBta-LyKM"
      },
      "execution_count": null,
      "outputs": []
    },
    {
      "cell_type": "code",
      "source": [
        "# Write your MySQL query statement below\n",
        "WITH\n",
        "    t AS (\n",
        "        SELECT DISTINCT s1.sub_id AS post_id, s2.sub_id AS sub_id\n",
        "        FROM\n",
        "            Submissions AS s1\n",
        "            LEFT JOIN Submissions AS s2 ON s1.sub_id = s2.parent_id\n",
        "        WHERE s1.parent_id IS NULL\n",
        "    )\n",
        "SELECT post_id, COUNT(sub_id) AS number_of_comments\n",
        "FROM t\n",
        "GROUP BY post_id\n",
        "ORDER BY post_id;"
      ],
      "metadata": {
        "id": "CDdW450SQJac"
      },
      "execution_count": null,
      "outputs": []
    },
    {
      "cell_type": "code",
      "source": [
        "# Write your MySQL query statement below\n",
        "SELECT\n",
        "    p.product_id,\n",
        "    IFNULL(ROUND(SUM(price * units) / SUM(units), 2), 0) AS average_price\n",
        "FROM\n",
        "    Prices AS p\n",
        "    LEFT JOIN UnitsSold AS u\n",
        "        ON p.product_id = u.product_id AND purchase_date BETWEEN start_date AND end_date\n",
        "GROUP BY 1;"
      ],
      "metadata": {
        "id": "rBr66nMIQKPW"
      },
      "execution_count": null,
      "outputs": []
    },
    {
      "cell_type": "code",
      "source": [
        "# Write your MySQL query statement below\n",
        "SELECT s.student_id, s.student_name, sb.subject_name, COUNT(e.student_id) AS attended_exams\n",
        "FROM\n",
        "    Students s\n",
        "    JOIN Subjects sb\n",
        "    LEFT JOIN Examinations AS e on e.student_id=s.student_id and sb.subject_name=e.subject_name)\n",
        "GROUP BY 1, 3\n",
        "ORDER BY 1, 3;"
      ],
      "metadata": {
        "id": "2v3Xm5ukSpIr"
      },
      "execution_count": null,
      "outputs": []
    },
    {
      "cell_type": "code",
      "source": [
        "# Write your MySQL query statement below\n",
        "SELECT\n",
        "    country_name,\n",
        "    CASE\n",
        "        WHEN AVG(weather_state) <= 15 THEN 'Cold'\n",
        "        WHEN AVG(weather_state) >= 25 THEN 'Hot'\n",
        "        ELSE 'Warm'\n",
        "    END AS weather_type\n",
        "FROM\n",
        "    Weather AS w\n",
        "    JOIN Countries USING (country_id)\n",
        "WHERE DATE_FORMAT(day, '%Y-%m') = '2019-11'\n",
        "GROUP BY 1;"
      ],
      "metadata": {
        "id": "TUAAbdjSTofZ"
      },
      "execution_count": null,
      "outputs": []
    },
    {
      "cell_type": "code",
      "source": [
        "# Write your MySQL query statement below\n",
        "WITH\n",
        "    T AS (\n",
        "        SELECT team_id, COUNT(1) AS team_size\n",
        "        FROM Employee\n",
        "        GROUP BY 1\n",
        "    )\n",
        "SELECT employee_id, team_size\n",
        "FROM\n",
        "    Employee\n",
        "    JOIN T USING (team_id);"
      ],
      "metadata": {
        "id": "d899BayDTpTA"
      },
      "execution_count": null,
      "outputs": []
    }
  ]
}